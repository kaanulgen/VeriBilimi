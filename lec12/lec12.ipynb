{
 "cells": [
  {
   "cell_type": "markdown",
   "metadata": {},
   "source": [
    "### Derin Öğrenme - Uygulamalar"
   ]
  },
  {
   "cell_type": "markdown",
   "metadata": {},
   "source": [
    "#### Tek Perceptron"
   ]
  },
  {
   "cell_type": "code",
   "execution_count": 1,
   "metadata": {},
   "outputs": [],
   "source": [
    "%load_ext watermark"
   ]
  },
  {
   "cell_type": "code",
   "execution_count": 2,
   "metadata": {},
   "outputs": [
    {
     "name": "stdout",
     "output_type": "stream",
     "text": [
      "E. Kaan Ulgen \n",
      "\n",
      "numpy 1.19.5\n",
      "scipy 1.5.4\n",
      "matplotlib 3.1.0\n",
      "pandas 1.2.2\n",
      "sklearn 0.23.2\n"
     ]
    }
   ],
   "source": [
    "%watermark -a \"E. Kaan Ulgen\" -p numpy,scipy,matplotlib,pandas,scikit-learn"
   ]
  },
  {
   "cell_type": "code",
   "execution_count": 3,
   "metadata": {},
   "outputs": [],
   "source": [
    "import numpy as np"
   ]
  },
  {
   "cell_type": "code",
   "execution_count": 4,
   "metadata": {},
   "outputs": [],
   "source": [
    "girdi = [1.0, 2, 3.0, 2.2]\n",
    "agırlık = [0.5, 0.3, -0.5, 1.0]\n",
    "bias = 2.2"
   ]
  },
  {
   "cell_type": "code",
   "execution_count": 5,
   "metadata": {},
   "outputs": [
    {
     "data": {
      "text/plain": [
       "4.0"
      ]
     },
     "execution_count": 5,
     "metadata": {},
     "output_type": "execute_result"
    }
   ],
   "source": [
    "cıktı = np.dot(agırlık, girdi) + bias\n",
    "cıktı"
   ]
  },
  {
   "cell_type": "markdown",
   "metadata": {},
   "source": [
    "#### Detay"
   ]
  },
  {
   "cell_type": "markdown",
   "metadata": {},
   "source": [
    "np.dot(agırlık, girdi) + bias = (0.5x1.0 + 0.3x2 + -0.5x3.0 + 1.0x2.2) + 2.2"
   ]
  },
  {
   "cell_type": "code",
   "execution_count": 6,
   "metadata": {},
   "outputs": [
    {
     "data": {
      "text/plain": [
       "4.0"
      ]
     },
     "execution_count": 6,
     "metadata": {},
     "output_type": "execute_result"
    }
   ],
   "source": [
    "cıktı"
   ]
  },
  {
   "cell_type": "markdown",
   "metadata": {},
   "source": [
    "#### Nöron Katmanı (Tek Katmanlı Perceptron)"
   ]
  },
  {
   "cell_type": "markdown",
   "metadata": {},
   "source": [
    "- Diyelim ki elimizde 3 tane nörondan oluşan bir katman var."
   ]
  },
  {
   "cell_type": "code",
   "execution_count": 7,
   "metadata": {},
   "outputs": [],
   "source": [
    "girdi = [1.0, 2, 3.0, 2.2]\n",
    "\n",
    "agırlık = [[0.5, 0.3, -0.5, 1.0],\n",
    "           [0.5, -0.91, 0.26, -0.5],\n",
    "           [-0.3, 0.1, -0.27, 0.7]]\n",
    "\n",
    "bias = [2.2, 2.0, 1.5] "
   ]
  },
  {
   "cell_type": "code",
   "execution_count": 8,
   "metadata": {},
   "outputs": [
    {
     "data": {
      "text/plain": [
       "array([4.  , 0.36, 2.13])"
      ]
     },
     "execution_count": 8,
     "metadata": {},
     "output_type": "execute_result"
    }
   ],
   "source": [
    "katman_sonucu = np.dot(agırlık, girdi) + bias\n",
    "katman_sonucu"
   ]
  },
  {
   "cell_type": "markdown",
   "metadata": {},
   "source": [
    "#### Detay"
   ]
  },
  {
   "cell_type": "markdown",
   "metadata": {},
   "source": [
    "np.dot(agırlık, girdi) = [(np.dot(agırlık[0], girdi),\n",
    "                          (np.dot(agırlık[1], girdi),\n",
    "                          (np.dot(agırlık[2], girdi)] = [1.8, -1.46, 0.63]\n",
    "                          \n",
    "np.dot(agırlık, girdi) + bias = [1.8, -1.46, 0.63] + [2.2, 2.0, 1.5] =  [4.0, 0.36, 2.13]                        "
   ]
  },
  {
   "cell_type": "markdown",
   "metadata": {},
   "source": [
    "#### Yığın Kavramı - Batch Size"
   ]
  },
  {
   "cell_type": "markdown",
   "metadata": {},
   "source": [
    "- Derin öğrenme modelleri tüm verileri bir kere de kullanmak yerine, küçük yığınlara ayırır. Örneğin büyüklüğü 64 olan bir veri yığını düşünelim.\n",
    "\n",
    "<center>yıgın = egitim_verisi[:64]</center>\n",
    "\n",
    "- Daha sonraki yığın:\n",
    "\n",
    "<center>yıgın = egitim_verisi[64:128]</center>\n",
    "\n",
    "- n'inci yığın:\n",
    "\n",
    "<center>yıgın = egitim_verisi[64 * n: 64 * (n+1)]</center>"
   ]
  },
  {
   "cell_type": "code",
   "execution_count": 9,
   "metadata": {},
   "outputs": [],
   "source": [
    "girdi = [[1.0, 2, 3.0, 2.2],\n",
    "        [3.0, 1.0, 2.0, -1.0],\n",
    "        [2.0, -1.5, -2.7, 1.2]]\n",
    "\n",
    "agırlık = [[0.5, 0.3, -0.5, 1.0],\n",
    "           [0.5, -0.91, 0.26, -0.5],\n",
    "           [-0.3, 0.1, -0.27, 0.7]]\n",
    "\n",
    "bias = [2.2, 2.0, 1.5] "
   ]
  },
  {
   "cell_type": "code",
   "execution_count": 10,
   "metadata": {},
   "outputs": [
    {
     "data": {
      "text/plain": [
       "array([[ 4.   ,  0.36 ,  2.13 ],\n",
       "       [ 2.   ,  3.61 , -0.54 ],\n",
       "       [ 5.3  ,  3.063,  2.319]])"
      ]
     },
     "execution_count": 10,
     "metadata": {},
     "output_type": "execute_result"
    }
   ],
   "source": [
    "katman_sonucu = np.dot(girdi, np.array(agırlık).T) + bias\n",
    "katman_sonucu"
   ]
  },
  {
   "cell_type": "markdown",
   "metadata": {},
   "source": [
    "#### Katman Ekleme"
   ]
  },
  {
   "cell_type": "code",
   "execution_count": 11,
   "metadata": {},
   "outputs": [],
   "source": [
    "girdi = [[1.0, 2, 3.0, 2.2],\n",
    "        [3.0, 1.0, 2.0, -1.0],\n",
    "        [2.0, -1.5, -2.7, 1.2]]\n",
    "\n",
    "agırlık = [[0.5, 0.3, -0.5, 1.0],\n",
    "           [0.5, -0.91, 0.26, -0.5],\n",
    "           [-0.3, 0.1, -0.27, 0.7]]\n",
    "\n",
    "bias = [2.2, 2.0, 1.5] "
   ]
  },
  {
   "cell_type": "markdown",
   "metadata": {},
   "source": [
    "- 2. katman için:"
   ]
  },
  {
   "cell_type": "code",
   "execution_count": 12,
   "metadata": {},
   "outputs": [],
   "source": [
    "agırlık2 = [[0.8, -0.2, -0.12],\n",
    "           [-0.5, 0.91, 0.26],\n",
    "           [-0.3, 0.14, -0.15]]\n",
    "\n",
    "bias2 = [-1, 2.0, 1.] "
   ]
  },
  {
   "cell_type": "code",
   "execution_count": 13,
   "metadata": {},
   "outputs": [
    {
     "data": {
      "text/plain": [
       "array([[ 4.   ,  0.36 ,  2.13 ],\n",
       "       [ 2.   ,  3.61 , -0.54 ],\n",
       "       [ 5.3  ,  3.063,  2.319]])"
      ]
     },
     "execution_count": 13,
     "metadata": {},
     "output_type": "execute_result"
    }
   ],
   "source": [
    "katman1_sonuc = np.dot(girdi, np.array(agırlık).T) + bias\n",
    "katman1_sonuc"
   ]
  },
  {
   "cell_type": "code",
   "execution_count": 14,
   "metadata": {},
   "outputs": [
    {
     "data": {
      "text/plain": [
       "array([[ 1.8724 ,  0.8814 , -0.4691 ],\n",
       "       [-0.0572 ,  4.1447 ,  0.9864 ],\n",
       "       [ 2.34912,  2.74027, -0.50903]])"
      ]
     },
     "execution_count": 14,
     "metadata": {},
     "output_type": "execute_result"
    }
   ],
   "source": [
    "katman2_sonuc = np.dot(katman1_sonuc, np.array(agırlık2).T) + bias2\n",
    "katman2_sonuc"
   ]
  },
  {
   "cell_type": "markdown",
   "metadata": {},
   "source": [
    "### Perceptron Uygulama-2"
   ]
  },
  {
   "cell_type": "code",
   "execution_count": 15,
   "metadata": {},
   "outputs": [],
   "source": [
    "from sklearn.datasets import make_blobs\n",
    "import matplotlib.pyplot as plt\n",
    "\n",
    "X, y = make_blobs(n_samples=100,\n",
    "                       centers=2,\n",
    "                       cluster_std=0.60,\n",
    "                       random_state=0)"
   ]
  },
  {
   "cell_type": "code",
   "execution_count": 16,
   "metadata": {},
   "outputs": [
    {
     "data": {
      "text/plain": [
       "array([1, 1, 0, 0, 1, 0, 0, 1, 0, 1, 0, 1, 0, 0, 1, 1, 1, 0, 1, 1, 0, 0,\n",
       "       1, 0, 1, 0, 1, 0, 0, 1, 1, 0, 1, 1, 1, 0, 1, 1, 0, 1, 0, 0, 0, 0,\n",
       "       1, 1, 1, 1, 0, 0, 1, 1, 0, 0, 0, 0, 0, 1, 1, 1, 1, 0, 0, 1, 0, 1,\n",
       "       0, 0, 1, 0, 0, 1, 1, 0, 0, 0, 1, 1, 0, 0, 1, 0, 0, 0, 0, 0, 1, 0,\n",
       "       1, 1, 1, 1, 1, 1, 0, 0, 1, 1, 0, 1])"
      ]
     },
     "execution_count": 16,
     "metadata": {},
     "output_type": "execute_result"
    }
   ],
   "source": [
    "y"
   ]
  },
  {
   "cell_type": "code",
   "execution_count": 17,
   "metadata": {},
   "outputs": [
    {
     "name": "stderr",
     "output_type": "stream",
     "text": [
      "No handles with labels found to put in legend.\n"
     ]
    },
    {
     "data": {
      "image/png": "[encoded data removed]",
      "text/plain": [
       "<Figure size 576x576 with 1 Axes>"
      ]
     },
     "metadata": {
      "needs_background": "light"
     },
     "output_type": "display_data"
    }
   ],
   "source": [
    "plt.figure(figsize=(8,8))\n",
    "plt.scatter(X[:,0], X[:,1], c=y, cmap=plt.cm.jet)\n",
    "plt.legend()\n",
    "plt.show()"
   ]
  },
  {
   "cell_type": "code",
   "execution_count": 18,
   "metadata": {},
   "outputs": [
    {
     "data": {
      "text/plain": [
       "100"
      ]
     },
     "execution_count": 18,
     "metadata": {},
     "output_type": "execute_result"
    }
   ],
   "source": [
    "y.shape[0]"
   ]
  },
  {
   "cell_type": "markdown",
   "metadata": {},
   "source": [
    "#### Eğitim - Test Verisi"
   ]
  },
  {
   "cell_type": "code",
   "execution_count": 19,
   "metadata": {},
   "outputs": [],
   "source": [
    "shuffle_idx = np.arange(y.shape[0])\n",
    "shuffle_rng = np.random.RandomState(123)\n",
    "shuffle_rng.shuffle(shuffle_idx)\n",
    "X, y = X[shuffle_idx], y[shuffle_idx]\n",
    "\n",
    "X_train, X_test = X[shuffle_idx[:70]], X[shuffle_idx[70:]]\n",
    "y_train, y_test = y[shuffle_idx[:70]], y[shuffle_idx[70:]]\n",
    "\n",
    "# Normalizasyon\n",
    "mu, sigma = X_train.mean(axis=0), X_train.std(axis=0)\n",
    "X_train = (X_train - mu) / sigma\n",
    "X_test = (X_test - mu) / sigma"
   ]
  },
  {
   "cell_type": "code",
   "execution_count": 20,
   "metadata": {},
   "outputs": [
    {
     "data": {
      "image/png": "[encoded data removed]",
      "text/plain": [
       "<Figure size 432x288 with 1 Axes>"
      ]
     },
     "metadata": {
      "needs_background": "light"
     },
     "output_type": "display_data"
    }
   ],
   "source": [
    "plt.scatter(X_train[y_train==0, 0], X_train[y_train==0, 1], label='Sınıf-1', marker='^', c=\"r\")\n",
    "plt.scatter(X_train[y_train==1, 0], X_train[y_train==1, 1], label='Sınıf-2', marker='v', c=\"b\")\n",
    "plt.title('Eğitim Verisi')\n",
    "plt.xlabel('x')\n",
    "plt.ylabel('y')\n",
    "plt.xlim([-3, 3])\n",
    "plt.ylim([-3, 3])\n",
    "plt.legend()\n",
    "plt.show()"
   ]
  },
  {
   "cell_type": "code",
   "execution_count": 21,
   "metadata": {},
   "outputs": [
    {
     "data": {
      "image/png": "[encoded data removed]",
      "text/plain": [
       "<Figure size 432x288 with 1 Axes>"
      ]
     },
     "metadata": {
      "needs_background": "light"
     },
     "output_type": "display_data"
    }
   ],
   "source": [
    "plt.scatter(X_test[y_test==0, 0], X_test[y_test==0, 1], label='Sınıf-1', marker='^', c=\"r\")\n",
    "plt.scatter(X_test[y_test==1, 0], X_test[y_test==1, 1], label='Sınıf-2', marker='v', c=\"b\")\n",
    "plt.title('Test Verisi')\n",
    "plt.xlabel('x')\n",
    "plt.ylabel('y')\n",
    "plt.xlim([-3, 3])\n",
    "plt.ylim([-3, 3])\n",
    "plt.legend()\n",
    "plt.show()"
   ]
  },
  {
   "cell_type": "code",
   "execution_count": 22,
   "metadata": {},
   "outputs": [
    {
     "data": {
      "text/plain": [
       "array([[0.],\n",
       "       [0.]])"
      ]
     },
     "execution_count": 22,
     "metadata": {},
     "output_type": "execute_result"
    }
   ],
   "source": [
    "np.zeros((2,1), dtype=np.float)"
   ]
  },
  {
   "cell_type": "code",
   "execution_count": 23,
   "metadata": {},
   "outputs": [],
   "source": [
    "class Perceptron():\n",
    "    def __init__(self, num_features):\n",
    "        self.num_features = num_features\n",
    "        self.weights = np.zeros((num_features, 1), dtype=np.float)\n",
    "        self.bias = np.zeros(1, dtype=np.float)\n",
    "\n",
    "    def forward(self, x):\n",
    "        linear = np.dot(x, self.weights) + self.bias\n",
    "        predictions = np.where(linear > 0., 1, 0)\n",
    "        return predictions\n",
    "        \n",
    "    def backward(self, x, y):  \n",
    "        predictions = self.forward(x)\n",
    "        errors = y - predictions\n",
    "        return errors\n",
    "        \n",
    "    def train(self, x, y, epochs):\n",
    "        for e in range(epochs):\n",
    "            \n",
    "            for i in range(y.shape[0]):\n",
    "                errors = self.backward(x[i].reshape(1, self.num_features), y[i]).reshape(-1)\n",
    "                self.weights += (errors * x[i]).reshape(self.num_features, 1)\n",
    "                self.bias += errors\n",
    "                \n",
    "    def evaluate(self, x, y):\n",
    "        predictions = self.forward(x).reshape(-1)\n",
    "        accuracy = np.sum(predictions == y) / y.shape[0]\n",
    "        return accuracy"
   ]
  },
  {
   "cell_type": "code",
   "execution_count": 24,
   "metadata": {},
   "outputs": [
    {
     "name": "stdout",
     "output_type": "stream",
     "text": [
      "Model parametreleri:\n",
      "\n",
      "  Ağırlıklar: [[ 1.14182036]\n",
      " [-2.05991215]]\n",
      "\n",
      "  Bias: [0.]\n",
      "\n"
     ]
    }
   ],
   "source": [
    "model = Perceptron(num_features=2)\n",
    "\n",
    "model.train(X_train, y_train, epochs=5)\n",
    "\n",
    "print('Model parametreleri:\\n')\n",
    "print('  Ağırlıklar: %s\\n' % model.weights)\n",
    "print('  Bias: %s\\n' % model.bias)"
   ]
  },
  {
   "cell_type": "code",
   "execution_count": 25,
   "metadata": {},
   "outputs": [
    {
     "name": "stdout",
     "output_type": "stream",
     "text": [
      "Test Verisinin Doğruluğu: 96.67%\n"
     ]
    }
   ],
   "source": [
    "test_acc = model.evaluate(X_test, y_test)\n",
    "print('Test Verisinin Doğruluğu: %.2f%%' % (test_acc*100))"
   ]
  },
  {
   "cell_type": "code",
   "execution_count": 26,
   "metadata": {},
   "outputs": [
    {
     "data": {
      "image/png": "[encoded data removed]",
      "text/plain": [
       "<Figure size 1008x576 with 2 Axes>"
      ]
     },
     "metadata": {
      "needs_background": "light"
     },
     "output_type": "display_data"
    }
   ],
   "source": [
    "w, b = model.weights, model.bias\n",
    "\n",
    "x_min = -2\n",
    "y_min = ( (-(w[0] * x_min) - b[0]) \n",
    "          / w[1] )\n",
    "\n",
    "x_max = 2\n",
    "y_max = ( (-(w[0] * x_max) - b[0]) \n",
    "          / w[1] )\n",
    "\n",
    "\n",
    "fig, ax = plt.subplots(1, 2, sharex=True, figsize=(14,8))\n",
    "\n",
    "ax[0].scatter(X_train[y_train==0, 0], X_train[y_train==0, 1], label=\"Sınıf-1\", marker=\"^\", c=\"r\")\n",
    "ax[0].scatter(X_train[y_train==1, 0], X_train[y_train==1, 1], label=\"Sınıf-2\", marker=\"v\", c=\"b\")\n",
    "ax[0].plot([x_min, x_max], [y_min, y_max])\n",
    "ax[0].legend(loc='best')\n",
    "\n",
    "ax[1].scatter(X_test[y_test==0, 0], X_test[y_test==0, 1], label=\"Sınıf-1\", marker=\"^\", c=\"r\")\n",
    "ax[1].scatter(X_test[y_test==1, 0], X_test[y_test==1, 1], label=\"Sınıf-2\", marker=\"v\", c=\"b\")\n",
    "ax[1].plot([x_min, x_max], [y_min, y_max])\n",
    "\n",
    "\n",
    "ax[1].legend(loc='best')\n",
    "plt.show()"
   ]
  },
  {
   "cell_type": "markdown",
   "metadata": {},
   "source": [
    "## Keras ile Derin Öğrenme"
   ]
  },
  {
   "cell_type": "code",
   "execution_count": 27,
   "metadata": {},
   "outputs": [],
   "source": [
    "import numpy as np\n",
    "import pandas as pd\n",
    "import matplotlib.pyplot as plt\n",
    "from keras.datasets import mnist"
   ]
  },
  {
   "cell_type": "code",
   "execution_count": 28,
   "metadata": {},
   "outputs": [],
   "source": [
    "(train_images, train_labels), (test_images, test_labels) = mnist.load_data()"
   ]
  },
  {
   "cell_type": "code",
   "execution_count": 29,
   "metadata": {},
   "outputs": [
    {
     "name": "stdout",
     "output_type": "stream",
     "text": [
      "(60000, 28, 28)\n"
     ]
    }
   ],
   "source": [
    "print(train_images.shape)"
   ]
  },
  {
   "cell_type": "code",
   "execution_count": 30,
   "metadata": {},
   "outputs": [
    {
     "name": "stdout",
     "output_type": "stream",
     "text": [
      "(10000, 28, 28)\n"
     ]
    }
   ],
   "source": [
    "print(test_images.shape)"
   ]
  },
  {
   "cell_type": "code",
   "execution_count": 31,
   "metadata": {},
   "outputs": [
    {
     "data": {
      "text/plain": [
       "array([[[0, 0, 0, ..., 0, 0, 0],\n",
       "        [0, 0, 0, ..., 0, 0, 0],\n",
       "        [0, 0, 0, ..., 0, 0, 0],\n",
       "        ...,\n",
       "        [0, 0, 0, ..., 0, 0, 0],\n",
       "        [0, 0, 0, ..., 0, 0, 0],\n",
       "        [0, 0, 0, ..., 0, 0, 0]],\n",
       "\n",
       "       [[0, 0, 0, ..., 0, 0, 0],\n",
       "        [0, 0, 0, ..., 0, 0, 0],\n",
       "        [0, 0, 0, ..., 0, 0, 0],\n",
       "        ...,\n",
       "        [0, 0, 0, ..., 0, 0, 0],\n",
       "        [0, 0, 0, ..., 0, 0, 0],\n",
       "        [0, 0, 0, ..., 0, 0, 0]],\n",
       "\n",
       "       [[0, 0, 0, ..., 0, 0, 0],\n",
       "        [0, 0, 0, ..., 0, 0, 0],\n",
       "        [0, 0, 0, ..., 0, 0, 0],\n",
       "        ...,\n",
       "        [0, 0, 0, ..., 0, 0, 0],\n",
       "        [0, 0, 0, ..., 0, 0, 0],\n",
       "        [0, 0, 0, ..., 0, 0, 0]],\n",
       "\n",
       "       ...,\n",
       "\n",
       "       [[0, 0, 0, ..., 0, 0, 0],\n",
       "        [0, 0, 0, ..., 0, 0, 0],\n",
       "        [0, 0, 0, ..., 0, 0, 0],\n",
       "        ...,\n",
       "        [0, 0, 0, ..., 0, 0, 0],\n",
       "        [0, 0, 0, ..., 0, 0, 0],\n",
       "        [0, 0, 0, ..., 0, 0, 0]],\n",
       "\n",
       "       [[0, 0, 0, ..., 0, 0, 0],\n",
       "        [0, 0, 0, ..., 0, 0, 0],\n",
       "        [0, 0, 0, ..., 0, 0, 0],\n",
       "        ...,\n",
       "        [0, 0, 0, ..., 0, 0, 0],\n",
       "        [0, 0, 0, ..., 0, 0, 0],\n",
       "        [0, 0, 0, ..., 0, 0, 0]],\n",
       "\n",
       "       [[0, 0, 0, ..., 0, 0, 0],\n",
       "        [0, 0, 0, ..., 0, 0, 0],\n",
       "        [0, 0, 0, ..., 0, 0, 0],\n",
       "        ...,\n",
       "        [0, 0, 0, ..., 0, 0, 0],\n",
       "        [0, 0, 0, ..., 0, 0, 0],\n",
       "        [0, 0, 0, ..., 0, 0, 0]]], dtype=uint8)"
      ]
     },
     "execution_count": 31,
     "metadata": {},
     "output_type": "execute_result"
    }
   ],
   "source": [
    "test_images"
   ]
  },
  {
   "cell_type": "code",
   "execution_count": 32,
   "metadata": {},
   "outputs": [
    {
     "data": {
      "image/png": "[encoded data removed]",
      "text/plain": [
       "<Figure size 432x288 with 1 Axes>"
      ]
     },
     "metadata": {
      "needs_background": "light"
     },
     "output_type": "display_data"
    }
   ],
   "source": [
    "digit = train_images[2]\n",
    "\n",
    "plt.imshow(digit, cmap=plt.cm.binary)\n",
    "plt.show()"
   ]
  },
  {
   "cell_type": "markdown",
   "metadata": {},
   "source": [
    "#### Sinir Ağının Oluşturulması - Ağın İnşa Edilmesi"
   ]
  },
  {
   "cell_type": "markdown",
   "metadata": {},
   "source": [
    "- Derin ağların temel yapıtaşı, katmanlardır. \n",
    "- Veri, katmana girdikten sonra daha anlamlı bir formda çıkar. Yani katmanlar, kendisini besleyen verilerden problemin çözümüne ışık tutacak şekilde daha kullanışlı, anlamlı gösterimler çıkarmaya çalışır. Hedef ve amaç bu olsada her zaman anlamlı sonuçlar elde edilemiyor."
   ]
  },
  {
   "cell_type": "code",
   "execution_count": 33,
   "metadata": {},
   "outputs": [],
   "source": [
    "from keras import models\n",
    "from keras import layers\n",
    "\n",
    "# Model oluşturuluyor\n",
    "model = models.Sequential() \n",
    "\n",
    "# Modele iki gizli katman ekliyoruz. Katmandaların 1.sinde 512 2.sinde ise 32 düğüm var ve her ikisinde \"relu\" aktivasyon fonksiyonunu kullanıyor. \n",
    "model.add(layers.Dense(512, activation='relu', input_shape=(28*28,))) \n",
    "model.add(layers.Dense(32, activation='relu'))\n",
    "\n",
    "# Modelimizin ezberlemesini önlemek için Dropout katmanını kullanıyoruz. \n",
    "# Dropout katmanı her adımda belirtilen orandaki girdiyi rassal olarak sıfıra eşitleyerek modelin veriye aşırı uyum sağlamasının önüne geçer.\n",
    "# Dropout değeri 0 ile 1 arasındadır.\n",
    "model.add(layers.Dropout(0.5))\n",
    "\n",
    "# Son eklediğimiz katman ise çıktı katmanıdır. Çoklu sınıflandırma problemi üzerine çalıştığımız için \"softmax\" aktivasyon fonksiyonunu kullanıyoruz.\n",
    "model.add(layers.Dense(10, activation='softmax'))"
   ]
  },
  {
   "cell_type": "markdown",
   "metadata": {},
   "source": [
    "**Ağımızı eğitmeden önce 3 önemli kısım mevcut:**\n",
    "\n",
    "- Kayıp Fonksiyonu (Loss Function)\n",
    "- Eniyileme (Optimizer) Algoritması\n",
    "- Metrik"
   ]
  },
  {
   "cell_type": "code",
   "execution_count": 34,
   "metadata": {},
   "outputs": [
    {
     "name": "stdout",
     "output_type": "stream",
     "text": [
      "Model: \"sequential\"\n",
      "_________________________________________________________________\n",
      "Layer (type)                 Output Shape              Param #   \n",
      "=================================================================\n",
      "dense (Dense)                (None, 512)               401920    \n",
      "_________________________________________________________________\n",
      "dense_1 (Dense)              (None, 32)                16416     \n",
      "_________________________________________________________________\n",
      "dropout (Dropout)            (None, 32)                0         \n",
      "_________________________________________________________________\n",
      "dense_2 (Dense)              (None, 10)                330       \n",
      "=================================================================\n",
      "Total params: 418,666\n",
      "Trainable params: 418,666\n",
      "Non-trainable params: 0\n",
      "_________________________________________________________________\n"
     ]
    }
   ],
   "source": [
    "model.compile(loss='categorical_crossentropy', \n",
    "              optimizer='rmsprop', \n",
    "              metrics=['accuracy'])\n",
    "\n",
    "model.summary()"
   ]
  },
  {
   "cell_type": "code",
   "execution_count": 35,
   "metadata": {},
   "outputs": [
    {
     "data": {
      "text/plain": [
       "((60000, 28, 28), dtype('uint8'))"
      ]
     },
     "execution_count": 35,
     "metadata": {},
     "output_type": "execute_result"
    }
   ],
   "source": [
    "train_images.shape, train_images.dtype"
   ]
  },
  {
   "cell_type": "markdown",
   "metadata": {},
   "source": [
    "- Eğitim veri setimizde (60000, 28, 28) şeklinde bir dizide, unit8 veri tipine sahip her elaman 0-255 arasında değerler almaktadır. Eğitim veri setini float32 veri tipinde 0 ile 1 arasında olacak şekilde düzenliyoruz."
   ]
  },
  {
   "cell_type": "code",
   "execution_count": 36,
   "metadata": {},
   "outputs": [],
   "source": [
    "train_images = train_images.reshape(60000,28*28)\n",
    "train_images = train_images.astype(\"float32\") / 255\n",
    "test_images = test_images.reshape(10000,28*28)\n",
    "test_images = test_images.astype(\"float32\") / 255"
   ]
  },
  {
   "cell_type": "markdown",
   "metadata": {},
   "source": [
    "- Etiketleri vektöre dönüştürürken tam sayı listesi kullanıyoruz."
   ]
  },
  {
   "cell_type": "code",
   "execution_count": 37,
   "metadata": {},
   "outputs": [],
   "source": [
    "from keras.utils import to_categorical\n",
    "\n",
    "train_labels = to_categorical(train_labels)\n",
    "test_labels = to_categorical(test_labels)"
   ]
  },
  {
   "cell_type": "markdown",
   "metadata": {},
   "source": [
    "- Model eğitilirken verilerin tamamı aynı anda eğitime katılmaz. Belli sayıda parçalar halinde eğitimde yer alırlar. “Batch_size” (Mini-yığın), kabaca bir seferde yapay sinir ağını eğitmek için kullanılacak örnek sayısını belirtir. “Epoch” (epok, devir) ise bütün veri kümesinin yapay sinir ağından bir kere geçmesi olarak tanımlanmaktadır."
   ]
  },
  {
   "cell_type": "code",
   "execution_count": 38,
   "metadata": {},
   "outputs": [
    {
     "name": "stdout",
     "output_type": "stream",
     "text": [
      "Epoch 1/5\n",
      "469/469 [==============================] - 6s 13ms/step - loss: 0.8219 - accuracy: 0.7344\n",
      "Epoch 2/5\n",
      "469/469 [==============================] - 5s 11ms/step - loss: 0.2646 - accuracy: 0.9256\n",
      "Epoch 3/5\n",
      "469/469 [==============================] - 5s 11ms/step - loss: 0.1921 - accuracy: 0.9461\n",
      "Epoch 4/5\n",
      "469/469 [==============================] - 5s 11ms/step - loss: 0.1565 - accuracy: 0.9567\n",
      "Epoch 5/5\n",
      "469/469 [==============================] - 5s 11ms/step - loss: 0.1270 - accuracy: 0.9626\n"
     ]
    }
   ],
   "source": [
    "history = model.fit(train_images, train_labels, epochs=5, batch_size=128)"
   ]
  },
  {
   "cell_type": "code",
   "execution_count": 13,
   "metadata": {},
   "outputs": [
    {
     "name": "stderr",
     "output_type": "stream",
     "text": [
      "WARNING: Logging before flag parsing goes to stderr.\n",
      "W0104 11:20:03.727645 4676015552 sequential.py:447] `model.predict_classes()` is deprecated and will be removed after 2021-01-01. Please use instead:* `np.argmax(model.predict(x), axis=-1)`,   if your model does multi-class classification   (e.g. if it uses a `softmax` last-layer activation).* `(model.predict(x) > 0.5).astype(\"int32\")`,   if your model does binary classification   (e.g. if it uses a `sigmoid` last-layer activation).\n"
     ]
    },
    {
     "data": {
      "text/plain": [
       "array([[ 971,    1,    0,    1,    0,    2,    2,    1,    1,    1],\n",
       "       [   0, 1126,    3,    1,    0,    1,    1,    0,    3,    0],\n",
       "       [   5,    2, 1001,    3,    2,    1,    3,    7,    7,    1],\n",
       "       [   0,    0,    3,  989,    0,    6,    0,    4,    3,    5],\n",
       "       [   1,    0,    3,    0,  947,    0,    5,    0,    0,   26],\n",
       "       [   2,    0,    0,    4,    0,  875,    5,    1,    2,    3],\n",
       "       [   8,    3,    0,    0,    4,    6,  936,    0,    1,    0],\n",
       "       [   2,    9,    9,    4,    0,    0,    0,  985,    1,   18],\n",
       "       [   3,    2,    3,    5,    4,    6,    2,    2,  938,    9],\n",
       "       [   4,    2,    0,    5,    4,    2,    0,    3,    2,  987]])"
      ]
     },
     "execution_count": 13,
     "metadata": {},
     "output_type": "execute_result"
    }
   ],
   "source": [
    "from sklearn.metrics import accuracy_score\n",
    "from sklearn.metrics import classification_report\n",
    "from sklearn.metrics import confusion_matrix\n",
    "\n",
    "rounded_predictions = model.predict_classes(test_images, batch_size=128, verbose=0)\n",
    "\n",
    "\n",
    "rounded_labels=np.argmax(test_labels, axis=1)\n",
    "\n",
    "cm = confusion_matrix(rounded_labels, rounded_predictions)\n",
    "cm"
   ]
  },
  {
   "cell_type": "code",
   "execution_count": 14,
   "metadata": {},
   "outputs": [
    {
     "name": "stdout",
     "output_type": "stream",
     "text": [
      "              precision    recall  f1-score   support\n",
      "\n",
      "           0       0.97      0.99      0.98       980\n",
      "           1       0.98      0.99      0.99      1135\n",
      "           2       0.98      0.97      0.97      1032\n",
      "           3       0.98      0.98      0.98      1010\n",
      "           4       0.99      0.96      0.97       982\n",
      "           5       0.97      0.98      0.98       892\n",
      "           6       0.98      0.98      0.98       958\n",
      "           7       0.98      0.96      0.97      1028\n",
      "           8       0.98      0.96      0.97       974\n",
      "           9       0.94      0.98      0.96      1009\n",
      "\n",
      "    accuracy                           0.98     10000\n",
      "   macro avg       0.98      0.98      0.98     10000\n",
      "weighted avg       0.98      0.98      0.98     10000\n",
      "\n"
     ]
    }
   ],
   "source": [
    "print(classification_report(rounded_labels, rounded_predictions))"
   ]
  },
  {
   "cell_type": "code",
   "execution_count": null,
   "metadata": {},
   "outputs": [],
   "source": []
  },
  {
   "cell_type": "code",
   "execution_count": null,
   "metadata": {},
   "outputs": [],
   "source": []
  },
  {
   "cell_type": "code",
   "execution_count": null,
   "metadata": {},
   "outputs": [],
   "source": []
  }
 ],
 "metadata": {
  "kernelspec": {
   "display_name": "Python 3",
   "language": "python",
   "name": "python3"
  },
  "language_info": {
   "codemirror_mode": {
    "name": "ipython",
    "version": 3
   },
   "file_extension": ".py",
   "mimetype": "text/x-python",
   "name": "python",
   "nbconvert_exporter": "python",
   "pygments_lexer": "ipython3",
   "version": "3.7.3"
  }
 },
 "nbformat": 4,
 "nbformat_minor": 2
}
