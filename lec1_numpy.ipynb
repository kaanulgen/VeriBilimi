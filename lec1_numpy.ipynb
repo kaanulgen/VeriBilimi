{
 "cells": [
  {
   "cell_type": "code",
   "execution_count": 1,
   "metadata": {},
   "outputs": [],
   "source": [
    "%load_ext watermark"
   ]
  },
  {
   "cell_type": "code",
   "execution_count": 2,
   "metadata": {},
   "outputs": [
    {
     "name": "stdout",
     "output_type": "stream",
     "text": [
      "E. Kaan Ulgen \n",
      "\n",
      "numpy 1.16.2\n",
      "scipy 1.2.0\n",
      "matplotlib 3.1.0\n",
      "pandas 1.0.4\n"
     ]
    }
   ],
   "source": [
    "%watermark -a \"E. Kaan Ulgen\" -p numpy,scipy,matplotlib,pandas"
   ]
  },
  {
   "cell_type": "markdown",
   "metadata": {},
   "source": [
    "# 1: Numpy Giriş"
   ]
  },
  {
   "cell_type": "markdown",
   "metadata": {},
   "source": [
    "![](./figure/numpy.png)\n",
    "\n",
    "- Numpy kütüphanesi Numerical Python (Sayısal Python) kelimelerinin kısaltmalarından oluşur. \n",
    "- Numpy özel bir dizi tipi (array) tanımlar. NumPy dizilerinin veri tipi **ndarray**'dir. Ayrıca numpy.array olarak da isimlendirilir.\n",
    "- Array kullanılarak yapılan işlemler python dilindeki mevcut liste yapısı kullanılarak yapılanlardan daha hızlıdır.\n",
    "- Numpy ile tanımlanan dizilerde bütün elemanlar aynı tiptedir (örneğin int64 veya float64 gibi) ve fiziksel bellekte yanyana yer alırlar. Bu sayede dizideki herhangi bir elemana ulaşmak çok daha hızlı olur.\n",
    "- Numpy ile istediğimiz boyut ve büyüklükte dizi nesneleri tanımlayabilir ve bunları hızlı bir şekilde düzenleyebiliriz.\n"
   ]
  },
  {
   "cell_type": "markdown",
   "metadata": {},
   "source": [
    "![](figure/numpy_review.png)"
   ]
  },
  {
   "cell_type": "markdown",
   "metadata": {},
   "source": [
    "**Temel ndarray komutları:**"
   ]
  },
  {
   "cell_type": "markdown",
   "metadata": {},
   "source": [
    "- ndarray.ndim: Boyut sayısı. Dizilerin boyutu için aynı zamanda **rank** ifadeside kullanılmaktadır.\n",
    "- ndarray.shape: Dizinin boyutları. 2x3'lük bir matris için **shape** (2,3) şeklindedir.\n",
    "- ndarray.size: Bir dizideki toplam eleman sayısı. 2x3'lük bir matris için size 6'dır.\n",
    "- ndarray.dtype: Dizi içindeki elemanların veri tipidir. Temel Python veri tiplerine ilave olarak numpy'da numpy.int16, numpy.int32, numpy.int64 veya numpy.float64 gibi veri tipleri bulunmaktadır.\n",
    "- ndarray.itemsize: Dizisinin her bir elemanının **byte** cinsinden boyutu. \n",
    "- ndarray.data: Dizinin elemanlarının tümüdür."
   ]
  },
  {
   "cell_type": "markdown",
   "metadata": {},
   "source": [
    "## 1.1: Numpy Dizi "
   ]
  },
  {
   "cell_type": "code",
   "execution_count": 3,
   "metadata": {},
   "outputs": [],
   "source": [
    "import numpy as np\n",
    "L = range(1000)"
   ]
  },
  {
   "cell_type": "code",
   "execution_count": 4,
   "metadata": {},
   "outputs": [
    {
     "name": "stdout",
     "output_type": "stream",
     "text": [
      "406 µs ± 5.32 µs per loop (mean ± std. dev. of 7 runs, 1000 loops each)\n"
     ]
    }
   ],
   "source": [
    "%timeit [i**2 for i in L]"
   ]
  },
  {
   "cell_type": "code",
   "execution_count": 5,
   "metadata": {},
   "outputs": [],
   "source": [
    "a = np.arange(1000)"
   ]
  },
  {
   "cell_type": "code",
   "execution_count": 6,
   "metadata": {},
   "outputs": [
    {
     "name": "stdout",
     "output_type": "stream",
     "text": [
      "2.09 µs ± 219 ns per loop (mean ± std. dev. of 7 runs, 100000 loops each)\n"
     ]
    }
   ],
   "source": [
    "%timeit a**2"
   ]
  },
  {
   "cell_type": "markdown",
   "metadata": {},
   "source": [
    "## 1.1.1: Dizinin Yaratılması"
   ]
  },
  {
   "cell_type": "markdown",
   "metadata": {},
   "source": [
    "- **1-D**"
   ]
  },
  {
   "cell_type": "code",
   "execution_count": 7,
   "metadata": {},
   "outputs": [
    {
     "name": "stdout",
     "output_type": "stream",
     "text": [
      "numpy array:  [0 1 2 3]\n"
     ]
    }
   ],
   "source": [
    "dizi = np.array([0, 1, 2, 3]) \n",
    "print(\"numpy array: \", dizi)"
   ]
  },
  {
   "cell_type": "markdown",
   "metadata": {},
   "source": [
    "- Dizinin boyutunun bulunması: ndarray.ndim"
   ]
  },
  {
   "cell_type": "code",
   "execution_count": 8,
   "metadata": {},
   "outputs": [
    {
     "name": "stdout",
     "output_type": "stream",
     "text": [
      "Dizinin Boyutu:  1\n"
     ]
    }
   ],
   "source": [
    "print(\"Dizinin Boyutu: \", dizi.ndim)"
   ]
  },
  {
   "cell_type": "markdown",
   "metadata": {},
   "source": [
    "- Dizinin Satır ve Sütun Sayısının Belirlenmesi: ndarray.shape "
   ]
  },
  {
   "cell_type": "code",
   "execution_count": 9,
   "metadata": {},
   "outputs": [
    {
     "name": "stdout",
     "output_type": "stream",
     "text": [
      "Dizinin Satır ve Sütun Sayısı:  (4,)\n"
     ]
    }
   ],
   "source": [
    "print(\"Dizinin Satır ve Sütun Sayısı: \", dizi.shape) "
   ]
  },
  {
   "cell_type": "markdown",
   "metadata": {},
   "source": [
    "**Not:** Tek boyutlu (1D) olduğu için cevap 4 olarak veriliyor (bu ne satır ne de sütun sayısı). Satır ve sütun kavramları 2D için daha uygun."
   ]
  },
  {
   "cell_type": "code",
   "execution_count": 10,
   "metadata": {},
   "outputs": [
    {
     "data": {
      "text/plain": [
       "array([ 0.50407392, -0.52447628,  0.68460798,  1.90735724,  0.80789964])"
      ]
     },
     "execution_count": 10,
     "metadata": {},
     "output_type": "execute_result"
    }
   ],
   "source": [
    "a = np.random.randn(5) # gaussian\n",
    "a"
   ]
  },
  {
   "cell_type": "code",
   "execution_count": 11,
   "metadata": {},
   "outputs": [
    {
     "data": {
      "text/plain": [
       "(5,)"
      ]
     },
     "execution_count": 11,
     "metadata": {},
     "output_type": "execute_result"
    }
   ],
   "source": [
    "a.shape"
   ]
  },
  {
   "cell_type": "code",
   "execution_count": 12,
   "metadata": {},
   "outputs": [
    {
     "data": {
      "text/plain": [
       "array([ 0.50407392, -0.52447628,  0.68460798,  1.90735724,  0.80789964])"
      ]
     },
     "execution_count": 12,
     "metadata": {},
     "output_type": "execute_result"
    }
   ],
   "source": [
    "a.T"
   ]
  },
  {
   "cell_type": "code",
   "execution_count": 13,
   "metadata": {},
   "outputs": [
    {
     "name": "stdout",
     "output_type": "stream",
     "text": [
      "5.2885674522058554\n"
     ]
    }
   ],
   "source": [
    "print(np.dot(a, a.T)) # sonucu bir matrix gibi düşünüyor olsakta. aslında tek bir sayı veriyor."
   ]
  },
  {
   "cell_type": "code",
   "execution_count": 14,
   "metadata": {},
   "outputs": [
    {
     "data": {
      "text/plain": [
       "array([[ 0.27691465],\n",
       "       [-0.02291377],\n",
       "       [-1.19522626],\n",
       "       [-0.46124948],\n",
       "       [-0.49537542]])"
      ]
     },
     "execution_count": 14,
     "metadata": {},
     "output_type": "execute_result"
    }
   ],
   "source": [
    "# Bunun yerine bu şekilde kullanmak daha sağlıklı olacaktır. \n",
    "\n",
    "a = np.random.randn(5,1) # kolon vektörü (column vector)\n",
    "a"
   ]
  },
  {
   "cell_type": "code",
   "execution_count": 15,
   "metadata": {},
   "outputs": [
    {
     "name": "stdout",
     "output_type": "stream",
     "text": [
      "[[ 0.27691465 -0.02291377 -1.19522626 -0.46124948 -0.49537542]]\n"
     ]
    }
   ],
   "source": [
    "print(a.T)"
   ]
  },
  {
   "cell_type": "code",
   "execution_count": 16,
   "metadata": {},
   "outputs": [
    {
     "name": "stdout",
     "output_type": "stream",
     "text": [
      "[[ 7.66817222e-02 -6.34515968e-03 -3.30975660e-01 -1.27726736e-01\n",
      "  -1.37176709e-01]\n",
      " [-6.34515968e-03  5.25041042e-04  2.73871446e-02  1.05689663e-02\n",
      "   1.13509204e-02]\n",
      " [-3.30975660e-01  2.73871446e-02  1.42856582e+00  5.51297487e-01\n",
      "   5.92085709e-01]\n",
      " [-1.27726736e-01  1.05689663e-02  5.51297487e-01  2.12751079e-01\n",
      "   2.28491652e-01]\n",
      " [-1.37176709e-01  1.13509204e-02  5.92085709e-01  2.28491652e-01\n",
      "   2.45396804e-01]]\n"
     ]
    }
   ],
   "source": [
    "print(np.dot(a, a.T)) "
   ]
  },
  {
   "cell_type": "markdown",
   "metadata": {},
   "source": [
    "- Dizinin Uzunluğu"
   ]
  },
  {
   "cell_type": "code",
   "execution_count": 17,
   "metadata": {},
   "outputs": [
    {
     "name": "stdout",
     "output_type": "stream",
     "text": [
      "Dizinin Uzunluğu:  4\n"
     ]
    }
   ],
   "source": [
    "print(\"Dizinin Uzunluğu: \", len(dizi))"
   ]
  },
  {
   "cell_type": "markdown",
   "metadata": {},
   "source": [
    "- **2-D, 3-D**, .."
   ]
  },
  {
   "cell_type": "code",
   "execution_count": 18,
   "metadata": {},
   "outputs": [
    {
     "data": {
      "text/plain": [
       "array([[ 1,  2,  3,  4,  5],\n",
       "       [ 6,  7,  8,  9, 10]])"
      ]
     },
     "execution_count": 18,
     "metadata": {},
     "output_type": "execute_result"
    }
   ],
   "source": [
    "dizi1 = np.array([[1,2,3,4,5],[6,7,8,9,10]])\n",
    "dizi1"
   ]
  },
  {
   "cell_type": "code",
   "execution_count": 19,
   "metadata": {},
   "outputs": [
    {
     "data": {
      "text/plain": [
       "array([[0, 1, 2],\n",
       "       [3, 4, 5]])"
      ]
     },
     "execution_count": 19,
     "metadata": {},
     "output_type": "execute_result"
    }
   ],
   "source": [
    "dizi2 = np.array([[0, 1, 2], [3, 4, 5]])  \n",
    "dizi2"
   ]
  },
  {
   "cell_type": "code",
   "execution_count": 20,
   "metadata": {},
   "outputs": [],
   "source": [
    "def print_info(elma):\n",
    "    print(\"Element Sayısı: \", elma.size)\n",
    "    print(\"Boyut Sayısı: \", elma.ndim)\n",
    "    print(\"Dizinin Satır ve Sütun yapısı: \", elma.shape)\n",
    "    print(\"Veri Tipi: \", elma.dtype)\n",
    "    "
   ]
  },
  {
   "cell_type": "code",
   "execution_count": 21,
   "metadata": {},
   "outputs": [
    {
     "name": "stdout",
     "output_type": "stream",
     "text": [
      "Element Sayısı:  10\n",
      "Boyut Sayısı:  2\n",
      "Dizinin Satır ve Sütun yapısı:  (2, 5)\n",
      "Veri Tipi:  int64\n"
     ]
    }
   ],
   "source": [
    "print_info(dizi1)"
   ]
  },
  {
   "cell_type": "code",
   "execution_count": 22,
   "metadata": {},
   "outputs": [
    {
     "data": {
      "text/plain": [
       "array([[[1],\n",
       "        [2]],\n",
       "\n",
       "       [[3],\n",
       "        [4]]])"
      ]
     },
     "execution_count": 22,
     "metadata": {},
     "output_type": "execute_result"
    }
   ],
   "source": [
    "dizi3 = np.array([[[1], [2]], [[3], [4]]]) \n",
    "dizi3"
   ]
  },
  {
   "cell_type": "code",
   "execution_count": 23,
   "metadata": {},
   "outputs": [
    {
     "name": "stdout",
     "output_type": "stream",
     "text": [
      "Element Sayısı:  4\n",
      "Boyut Sayısı:  3\n",
      "Dizinin Satır ve Sütun yapısı:  (2, 2, 1)\n",
      "Veri Tipi:  int64\n"
     ]
    }
   ],
   "source": [
    "print_info(dizi3)"
   ]
  },
  {
   "cell_type": "markdown",
   "metadata": {},
   "source": [
    "- **Dizi Oluşturma Fonksiyonları**"
   ]
  },
  {
   "cell_type": "markdown",
   "metadata": {},
   "source": [
    "- Eşit Aralıklı:"
   ]
  },
  {
   "cell_type": "code",
   "execution_count": 24,
   "metadata": {},
   "outputs": [
    {
     "data": {
      "text/plain": [
       "array([0, 1, 2, 3, 4, 5, 6, 7, 8, 9])"
      ]
     },
     "execution_count": 24,
     "metadata": {},
     "output_type": "execute_result"
    }
   ],
   "source": [
    "a = np.arange(10) \n",
    "a"
   ]
  },
  {
   "cell_type": "code",
   "execution_count": 25,
   "metadata": {},
   "outputs": [
    {
     "data": {
      "text/plain": [
       "array([1, 3, 5, 7])"
      ]
     },
     "execution_count": 25,
     "metadata": {},
     "output_type": "execute_result"
    }
   ],
   "source": [
    "b = np.arange(1, 9, 2) # başlangıç, bitiş, adım\n",
    "b"
   ]
  },
  {
   "cell_type": "markdown",
   "metadata": {},
   "source": [
    "- kaç tane sayı olacağının belirtilmesi"
   ]
  },
  {
   "cell_type": "code",
   "execution_count": 26,
   "metadata": {},
   "outputs": [
    {
     "data": {
      "text/plain": [
       "array([0. , 0.2, 0.4, 0.6, 0.8, 1. ])"
      ]
     },
     "execution_count": 26,
     "metadata": {},
     "output_type": "execute_result"
    }
   ],
   "source": [
    "c = np.linspace(0, 1, 6) # başlangıç, bitiş, sayı noktaları (num-points) \n",
    "c"
   ]
  },
  {
   "cell_type": "code",
   "execution_count": 27,
   "metadata": {},
   "outputs": [
    {
     "data": {
      "text/plain": [
       "array([0. , 0.2, 0.4, 0.6, 0.8])"
      ]
     },
     "execution_count": 27,
     "metadata": {},
     "output_type": "execute_result"
    }
   ],
   "source": [
    "d = np.linspace(0, 1, 5, endpoint=False)\n",
    "d"
   ]
  },
  {
   "cell_type": "markdown",
   "metadata": {},
   "source": [
    "**Genel Diziler**\n",
    "- np.zeros() , 0 matrisi"
   ]
  },
  {
   "cell_type": "code",
   "execution_count": 28,
   "metadata": {},
   "outputs": [
    {
     "name": "stdout",
     "output_type": "stream",
     "text": [
      "[[0. 0.]\n",
      " [0. 0.]]\n"
     ]
    }
   ],
   "source": [
    "print(np.zeros((2,2)))"
   ]
  },
  {
   "cell_type": "markdown",
   "metadata": {},
   "source": [
    "- np.ones() , 1’ler matrisi"
   ]
  },
  {
   "cell_type": "code",
   "execution_count": 29,
   "metadata": {},
   "outputs": [
    {
     "name": "stdout",
     "output_type": "stream",
     "text": [
      "[[1. 1. 1.]\n",
      " [1. 1. 1.]\n",
      " [1. 1. 1.]]\n"
     ]
    }
   ],
   "source": [
    "print(np.ones((3,3)))"
   ]
  },
  {
   "cell_type": "markdown",
   "metadata": {},
   "source": [
    "- np.eye(), Birim Matris"
   ]
  },
  {
   "cell_type": "code",
   "execution_count": 30,
   "metadata": {},
   "outputs": [
    {
     "name": "stdout",
     "output_type": "stream",
     "text": [
      "[[1. 0. 0.]\n",
      " [0. 1. 0.]\n",
      " [0. 0. 1.]]\n"
     ]
    }
   ],
   "source": [
    "print(np.eye(3,3))"
   ]
  },
  {
   "cell_type": "markdown",
   "metadata": {},
   "source": [
    "- np.diag(), Diagonal"
   ]
  },
  {
   "cell_type": "code",
   "execution_count": 31,
   "metadata": {},
   "outputs": [
    {
     "name": "stdout",
     "output_type": "stream",
     "text": [
      "[[1 0 0 0]\n",
      " [0 2 0 0]\n",
      " [0 0 3 0]\n",
      " [0 0 0 4]]\n"
     ]
    }
   ],
   "source": [
    "print(np.diag(np.array([1, 2, 3, 4])))"
   ]
  },
  {
   "cell_type": "markdown",
   "metadata": {},
   "source": [
    "- **Random (Rastgele) Sayılar**"
   ]
  },
  {
   "cell_type": "code",
   "execution_count": 32,
   "metadata": {},
   "outputs": [
    {
     "data": {
      "text/plain": [
       "array([-0.18072945,  1.07688378,  0.54346686, -2.03439211])"
      ]
     },
     "execution_count": 32,
     "metadata": {},
     "output_type": "execute_result"
    }
   ],
   "source": [
    "a = np.random.randn(4) # uniform in [0, 1]\n",
    "a"
   ]
  },
  {
   "cell_type": "code",
   "execution_count": 33,
   "metadata": {},
   "outputs": [
    {
     "data": {
      "text/plain": [
       "array([ 0.59696315, -1.74236981, -0.17081304, -0.40868524])"
      ]
     },
     "execution_count": 33,
     "metadata": {},
     "output_type": "execute_result"
    }
   ],
   "source": [
    "b = np.random.randn(4)\n",
    "b"
   ]
  },
  {
   "cell_type": "code",
   "execution_count": 34,
   "metadata": {},
   "outputs": [
    {
     "data": {
      "text/plain": [
       "array([4.17022005e-01, 7.20324493e-01, 1.14374817e-04, 3.02332573e-01])"
      ]
     },
     "execution_count": 34,
     "metadata": {},
     "output_type": "execute_result"
    }
   ],
   "source": [
    "np.random.seed(1) # rastgele seed\n",
    "c = np.random.rand(4)\n",
    "c"
   ]
  },
  {
   "cell_type": "markdown",
   "metadata": {},
   "source": [
    "## 1.1.2: Veri Tipleri"
   ]
  },
  {
   "cell_type": "code",
   "execution_count": 35,
   "metadata": {},
   "outputs": [
    {
     "name": "stdout",
     "output_type": "stream",
     "text": [
      "int64\n"
     ]
    }
   ],
   "source": [
    "a = np.array([9,10,11]) # tamsayı - integer\n",
    "print(a.dtype)"
   ]
  },
  {
   "cell_type": "code",
   "execution_count": 36,
   "metadata": {},
   "outputs": [
    {
     "name": "stdout",
     "output_type": "stream",
     "text": [
      "float64\n"
     ]
    }
   ],
   "source": [
    "b = np.array([1.,2.,5.]) # ondalık - float\n",
    "print(b.dtype)"
   ]
  },
  {
   "cell_type": "code",
   "execution_count": 37,
   "metadata": {},
   "outputs": [
    {
     "name": "stdout",
     "output_type": "stream",
     "text": [
      "float64\n"
     ]
    }
   ],
   "source": [
    "c = np.array([9,10,11], dtype=np.float64)\n",
    "print(c.dtype)"
   ]
  },
  {
   "cell_type": "code",
   "execution_count": 38,
   "metadata": {},
   "outputs": [
    {
     "name": "stdout",
     "output_type": "stream",
     "text": [
      "[ 9. 10. 11.]\n"
     ]
    }
   ],
   "source": [
    "print(c)"
   ]
  },
  {
   "cell_type": "markdown",
   "metadata": {},
   "source": [
    "- Complex Sayılar"
   ]
  },
  {
   "cell_type": "code",
   "execution_count": 39,
   "metadata": {},
   "outputs": [
    {
     "data": {
      "text/plain": [
       "dtype('complex128')"
      ]
     },
     "execution_count": 39,
     "metadata": {},
     "output_type": "execute_result"
    }
   ],
   "source": [
    "d = np.array([1+2j, 3+4j, 5+6*1j]) \n",
    "d.dtype"
   ]
  },
  {
   "cell_type": "markdown",
   "metadata": {},
   "source": [
    "- Bool "
   ]
  },
  {
   "cell_type": "code",
   "execution_count": 40,
   "metadata": {},
   "outputs": [
    {
     "data": {
      "text/plain": [
       "dtype('bool')"
      ]
     },
     "execution_count": 40,
     "metadata": {},
     "output_type": "execute_result"
    }
   ],
   "source": [
    "e = np.array([True, False, False, True]) \n",
    "e.dtype"
   ]
  },
  {
   "cell_type": "markdown",
   "metadata": {},
   "source": [
    "- String"
   ]
  },
  {
   "cell_type": "code",
   "execution_count": 41,
   "metadata": {},
   "outputs": [
    {
     "data": {
      "text/plain": [
       "dtype('<U10')"
      ]
     },
     "execution_count": 41,
     "metadata": {},
     "output_type": "execute_result"
    }
   ],
   "source": [
    "f = np.array(['Gunaydın', 'Merhaba', 'Veribilimi'])\n",
    "f.dtype"
   ]
  },
  {
   "cell_type": "markdown",
   "metadata": {},
   "source": [
    "![](figure/dtype.png)"
   ]
  },
  {
   "cell_type": "markdown",
   "metadata": {},
   "source": [
    "**Not:** Veri tiplerinin yanındaki sayılar, veri tipinin bit boyutunu göstermektedir. Peki bu ne demek? Bellekte tek bir değeri temsil için kullanılan bit miktarı."
   ]
  },
  {
   "cell_type": "markdown",
   "metadata": {},
   "source": [
    "## 1.1.3: Basit Veri Görselleştirme"
   ]
  },
  {
   "cell_type": "code",
   "execution_count": 42,
   "metadata": {},
   "outputs": [],
   "source": [
    "import matplotlib.pyplot as plt"
   ]
  },
  {
   "cell_type": "code",
   "execution_count": 43,
   "metadata": {},
   "outputs": [
    {
     "data": {
      "image/png": "[encoded data removed]",
      "text/plain": [
       "<Figure size 576x576 with 1 Axes>"
      ]
     },
     "metadata": {
      "needs_background": "light"
     },
     "output_type": "display_data"
    }
   ],
   "source": [
    "plt.figure(figsize=(8,8))\n",
    "x = np.linspace(0, 3, 20)\n",
    "y = np.linspace(0, 9, 20)\n",
    "plt.plot(x, y) # line plot \n",
    "#plt.plot(x, y, 'o') # dot plot\n",
    "plt.scatter(x,y, color=\"r\", marker=\"v\", label=\"deger\")\n",
    "plt.xlabel(r\"$X^2$\",fontsize=20)\n",
    "plt.ylabel(r\"$Y^2$\",fontsize=20)\n",
    "plt.legend(loc=\"best\", fontsize=20)\n",
    "plt.show()"
   ]
  },
  {
   "cell_type": "code",
   "execution_count": 44,
   "metadata": {},
   "outputs": [
    {
     "data": {
      "image/png": "[encoded data removed]",
      "text/plain": [
       "<Figure size 720x720 with 1 Axes>"
      ]
     },
     "metadata": {
      "needs_background": "light"
     },
     "output_type": "display_data"
    }
   ],
   "source": [
    "from matplotlib.ticker import MultipleLocator\n",
    "\n",
    "fig, ax = plt.subplots(figsize=(10,10))\n",
    "x = np.linspace(0, 3, 20)\n",
    "y = np.linspace(0, 9, 20)\n",
    "ax.plot(x**2, y**2) # line plot \n",
    "#plt.plot(x, y, 'o') # dot plot\n",
    "ax.scatter(x**2,y**2, color=\"r\", marker=\"v\", label=\"deger\")\n",
    "ax.set_xlabel(r\"$X^2$\",fontsize=30)\n",
    "ax.set_ylabel(r\"$Y^2$\",fontsize=30)\n",
    "ax.legend(loc=\"best\", fontsize=20)\n",
    "\n",
    "ax.tick_params(axis='x', which='major', labelsize=21)\n",
    "ax.tick_params(axis='y', which='major', labelsize=21)\n",
    "\n",
    "ax.minorticks_on()\n",
    "ax.tick_params(axis='x', which='minor', direction='in')\n",
    "ax.tick_params(axis='y', which='minor', direction='in')\n",
    "ax.tick_params(axis='x', which='major', direction='in', length=7)\n",
    "ax.tick_params(axis='y', which='major', direction='in',length=7)\n",
    "plt.show()"
   ]
  },
  {
   "cell_type": "markdown",
   "metadata": {},
   "source": [
    "- **2D diziler (örneğin resim gibi):**"
   ]
  },
  {
   "cell_type": "code",
   "execution_count": 45,
   "metadata": {},
   "outputs": [
    {
     "data": {
      "text/plain": [
       "array([[-5.28171752e-01, -1.07296862e+00,  8.65407629e-01,\n",
       "        -2.30153870e+00,  1.74481176e+00, -7.61206901e-01,\n",
       "         3.19039096e-01, -2.49370375e-01,  1.46210794e+00,\n",
       "        -2.06014071e+00, -3.22417204e-01, -3.84054355e-01,\n",
       "         1.13376944e+00, -1.09989127e+00, -1.72428208e-01,\n",
       "        -8.77858418e-01,  4.22137467e-02,  5.82815214e-01,\n",
       "        -1.10061918e+00,  1.14472371e+00,  9.01590721e-01,\n",
       "         5.02494339e-01,  9.00855949e-01, -6.83727859e-01,\n",
       "        -1.22890226e-01, -9.35769434e-01, -2.67888080e-01,\n",
       "         5.30355467e-01, -6.91660752e-01, -3.96753527e-01],\n",
       "       [-6.87172700e-01, -8.45205641e-01, -6.71246131e-01,\n",
       "        -1.26645989e-02, -1.11731035e+00,  2.34415698e-01,\n",
       "         1.65980218e+00,  7.42044161e-01, -1.91835552e-01,\n",
       "        -8.87628964e-01, -7.47158294e-01,  1.69245460e+00,\n",
       "         5.08077548e-02, -6.36995647e-01,  1.90915485e-01,\n",
       "         2.10025514e+00,  1.20158952e-01,  6.17203110e-01,\n",
       "         3.00170320e-01, -3.52249846e-01, -1.14251820e+00,\n",
       "        -3.49342722e-01, -2.08894233e-01,  5.86623191e-01,\n",
       "         8.38983414e-01,  9.31102081e-01,  2.85587325e-01,\n",
       "         8.85141164e-01, -7.54397941e-01,  1.25286816e+00],\n",
       "       [ 5.12929820e-01, -2.98092835e-01,  4.88518147e-01,\n",
       "        -7.55717130e-02,  1.13162939e+00,  1.51981682e+00,\n",
       "         2.18557541e+00, -1.39649634e+00, -1.44411381e+00,\n",
       "        -5.04465863e-01,  1.60037069e-01,  8.76168921e-01,\n",
       "         3.15634947e-01, -2.02220122e+00, -3.06204013e-01,\n",
       "         8.27974643e-01,  2.30094735e-01,  7.62011180e-01,\n",
       "        -2.22328143e-01, -2.00758069e-01,  1.86561391e-01,\n",
       "         4.10051647e-01,  1.98299720e-01,  1.19008646e-01,\n",
       "        -6.70662286e-01,  3.77563786e-01,  1.21821271e-01,\n",
       "         1.12948391e+00,  1.19891788e+00,  1.85156417e-01],\n",
       "       [-3.75284950e-01, -6.38730407e-01,  4.23494354e-01,\n",
       "         7.73400683e-02, -3.43853676e-01,  4.35968568e-02,\n",
       "        -6.20000844e-01,  6.98032034e-01, -4.47128565e-01,\n",
       "         1.22450770e+00,  4.03491642e-01,  5.93578523e-01,\n",
       "        -1.09491185e+00,  1.69382433e-01,  7.40556451e-01,\n",
       "        -9.53700602e-01, -2.66218506e-01,  3.26145467e-02,\n",
       "        -1.37311732e+00,  3.15159392e-01,  8.46160648e-01,\n",
       "        -8.59515941e-01,  3.50545979e-01, -1.31228341e+00,\n",
       "        -3.86955093e-02, -1.61577235e+00,  1.12141771e+00,\n",
       "         4.08900538e-01, -2.46169559e-02, -7.75161619e-01],\n",
       "       [ 1.27375593e+00,  1.96710175e+00, -1.85798186e+00,\n",
       "         1.23616403e+00,  1.62765075e+00,  3.38011697e-01,\n",
       "        -1.19926803e+00,  8.63345318e-01, -1.80920302e-01,\n",
       "        -6.03920628e-01, -1.23005814e+00,  5.50537496e-01,\n",
       "         7.92806866e-01, -6.23530730e-01,  5.20576337e-01,\n",
       "        -1.14434139e+00,  8.01861032e-01,  4.65672984e-02,\n",
       "        -1.86569772e-01, -1.01745873e-01,  8.68886157e-01,\n",
       "         7.50411640e-01,  5.29465324e-01,  1.37701210e-01,\n",
       "         7.78211279e-02,  6.18380262e-01,  2.32494559e-01,\n",
       "         6.82551407e-01, -3.10116774e-01, -2.43483776e+00],\n",
       "       [ 1.03882460e+00,  2.18697965e+00,  4.41364444e-01,\n",
       "        -1.00155233e-01, -1.36444744e-01, -1.19054188e-01,\n",
       "         1.74094083e-02, -1.12201873e+00, -5.17094458e-01,\n",
       "        -9.97026828e-01,  2.48799161e-01, -2.96641152e-01,\n",
       "         4.95211324e-01, -1.74703160e-01,  9.86335188e-01,\n",
       "         2.13533901e-01,  2.19069973e+00, -1.89636092e+00,\n",
       "        -6.46916688e-01,  9.01486892e-01,  2.52832571e+00,\n",
       "        -2.48634778e-01,  4.36689932e-02, -2.26314243e-01,\n",
       "         1.33145711e+00, -2.87307863e-01,  6.80069840e-01,\n",
       "        -3.19801599e-01, -1.27255876e+00,  3.13547720e-01],\n",
       "       [ 5.03184813e-01,  1.29322588e+00, -1.10447026e-01,\n",
       "        -6.17362064e-01,  5.62761097e-01,  2.40737092e-01,\n",
       "         2.80665077e-01, -7.31127037e-02,  1.16033857e+00,\n",
       "         3.69492716e-01,  1.90465871e+00,  1.11105670e+00,\n",
       "         6.59049796e-01, -1.62743834e+00,  6.02319280e-01,\n",
       "         4.20282204e-01,  8.10951673e-01,  1.04444209e+00,\n",
       "        -4.00878192e-01,  8.24005618e-01, -5.62305431e-01,\n",
       "         1.95487808e+00, -1.33195167e+00, -1.76068856e+00,\n",
       "        -1.65072127e+00, -8.90555584e-01, -1.11911540e+00,\n",
       "         1.95607890e+00, -3.26499498e-01, -1.34267579e+00],\n",
       "       [ 1.11438298e+00, -5.86523939e-01, -1.23685338e+00,\n",
       "         8.75838928e-01,  6.23362177e-01, -4.34956683e-01,\n",
       "         1.40754000e+00,  1.29101580e-01,  1.61694960e+00,\n",
       "         5.02740882e-01,  1.55880554e+00,  1.09402696e-01,\n",
       "        -1.21974440e+00,  2.44936865e+00, -5.45774168e-01,\n",
       "        -1.98837863e-01, -7.00398505e-01, -2.03394449e-01,\n",
       "         2.42669441e-01,  2.01830179e-01,  6.61020288e-01,\n",
       "         1.79215821e+00, -1.20464572e-01, -1.23312074e+00,\n",
       "        -1.18231813e+00, -6.65754518e-01, -1.67419581e+00,\n",
       "         8.25029824e-01, -4.98213564e-01, -3.10984978e-01],\n",
       "       [-1.89148284e-03, -1.39662042e+00, -8.61316361e-01,\n",
       "         6.74711526e-01,  6.18539131e-01, -4.43171931e-01,\n",
       "         1.81053491e+00, -1.30572692e+00, -3.44987210e-01,\n",
       "        -2.30839743e-01, -2.79308500e+00,  1.93752881e+00,\n",
       "         3.66332015e-01, -1.04458938e+00,  2.05117344e+00,\n",
       "         5.85662000e-01,  4.29526140e-01, -6.06998398e-01,\n",
       "         1.06222724e-01, -1.52568032e+00,  7.95026094e-01,\n",
       "        -3.74438319e-01,  1.34048197e-01,  1.20205486e+00,\n",
       "         2.84748111e-01,  2.62467445e-01,  2.76499305e-01,\n",
       "        -7.33271604e-01,  8.36004719e-01,  1.54335911e+00],\n",
       "       [ 7.58805660e-01,  8.84908814e-01, -8.77281519e-01,\n",
       "        -8.67787223e-01, -1.44087602e+00,  1.23225307e+00,\n",
       "        -2.54179868e-01,  1.39984394e+00, -7.81911683e-01,\n",
       "        -4.37508983e-01,  9.54250872e-02,  9.21450069e-01,\n",
       "         6.07501958e-02,  2.11124755e-01,  1.65275673e-02,\n",
       "         1.77187720e-01, -1.11647002e+00,  8.09271010e-02,\n",
       "        -1.86578994e-01, -5.68244809e-02,  4.92336556e-01,\n",
       "        -6.80678141e-01, -8.45080274e-02, -2.97361883e-01,\n",
       "         4.17302005e-01,  7.84770651e-01, -9.55425262e-01,\n",
       "         5.85910431e-01,  2.06578332e+00, -1.47115693e+00],\n",
       "       [-8.30171895e-01, -8.80577600e-01, -2.79097722e-01,\n",
       "         1.62284909e+00,  1.33526763e-02, -6.94693595e-01,\n",
       "         6.21803504e-01, -5.99804531e-01,  1.12341216e+00,\n",
       "         3.05267040e-01,  1.38877940e+00, -6.61344243e-01,\n",
       "         3.03085711e+00,  8.24584625e-01,  6.54580153e-01,\n",
       "        -5.11884476e-02, -7.25597119e-01, -8.67768678e-01,\n",
       "        -1.35977326e-01, -7.97269785e-01,  2.82675712e-01,\n",
       "        -8.26097432e-01,  6.21082701e-01,  9.56121704e-01,\n",
       "        -7.05840507e-01,  1.19268607e+00, -2.37941936e-01,\n",
       "         1.15528789e+00,  4.38166347e-01,  1.12232832e+00],\n",
       "       [-9.97019796e-01, -1.06793987e-01,  1.45142926e+00,\n",
       "        -6.18036848e-01, -2.03720123e+00, -1.94258918e+00,\n",
       "        -2.50644065e+00, -2.11416392e+00, -4.11639163e-01,\n",
       "         1.27852808e+00, -4.42229280e-01,  3.23527354e-01,\n",
       "        -1.09991490e-01,  8.54894544e-03, -1.68198840e-01,\n",
       "        -1.74180344e-01,  4.61164100e-01, -1.17598267e+00,\n",
       "         1.01012718e+00,  9.20017933e-01, -1.95057341e-01,\n",
       "         8.05393424e-01, -7.01344426e-01, -5.37223024e-01,\n",
       "         1.56263850e-01, -1.90221025e-01, -4.48738033e-01,\n",
       "        -6.72448039e-01, -5.57494722e-01,  9.39168744e-01],\n",
       "       [-1.94332341e+00,  3.52494364e-01, -2.36436952e-01,\n",
       "         7.27813500e-01,  5.15073614e-01, -2.78253447e+00,\n",
       "         5.84646610e-01,  3.24274243e-01,  2.18628366e-02,\n",
       "        -4.68673816e-01,  8.53281222e-01, -4.13029310e-01,\n",
       "         1.83471763e+00,  5.64382855e-01,  2.13782807e+00,\n",
       "        -7.85533997e-01, -1.75592564e+00,  7.14789597e-01,\n",
       "         8.52704062e-01,  3.53600971e-02, -1.53879325e+00,\n",
       "        -4.47895185e-01,  6.17985534e-01, -1.84176326e-01,\n",
       "        -1.15985185e-01, -1.75458969e-01, -9.33914656e-01,\n",
       "        -5.33020326e-01, -1.42655542e+00,  1.76795995e+00],\n",
       "       [-4.75372875e-01,  4.77610182e-01, -1.02188594e+00,\n",
       "         7.94528240e-01, -1.87316098e+00,  9.20615118e-01,\n",
       "        -3.53679249e-02,  2.11060505e+00, -1.30653407e+00,\n",
       "         7.63804802e-02,  3.67231814e-01,  1.23289919e+00,\n",
       "        -4.22856961e-01,  8.64644065e-02, -2.14246673e+00,\n",
       "        -8.30168864e-01,  4.51615951e-01,  1.10417433e+00,\n",
       "        -2.81736269e-01,  2.05635552e+00,  1.76024923e+00,\n",
       "        -6.06524918e-02, -2.41350300e+00, -1.77756638e+00,\n",
       "        -7.77858827e-01,  1.11584111e+00,  3.10272288e-01,\n",
       "        -2.09424782e+00, -2.28765829e-01,  1.61336137e+00],\n",
       "       [-3.74804687e-01, -7.49969617e-01,  2.05462410e+00,\n",
       "         5.34095368e-02, -4.79157099e-01,  3.50167159e-01,\n",
       "         1.71647264e-02, -4.29142278e-01,  1.20845633e+00,\n",
       "         1.11570180e+00,  8.40861558e-01, -1.02887218e-01,\n",
       "         1.14690038e+00, -4.97025792e-02,  4.66643267e-01,\n",
       "         1.03368687e+00,  8.08844360e-01,  1.78975468e+00,\n",
       "         4.51284016e-01, -1.68405999e+00, -1.16017010e+00,\n",
       "         1.35010682e+00, -3.31283170e-01,  3.86539145e-01,\n",
       "        -8.51455657e-01,  1.00088142e+00, -3.84832249e-01,\n",
       "         1.45810824e+00, -5.32234021e-01,  1.11813340e+00],\n",
       "       [ 6.74396105e-01, -7.22391905e-01,  1.09899633e+00,\n",
       "        -9.01634490e-01, -8.22467189e-01,  7.21711292e-01,\n",
       "        -6.25342001e-01, -5.93843067e-01, -3.43900709e-01,\n",
       "        -1.00016919e+00,  1.04499441e+00,  6.08514698e-01,\n",
       "        -6.93286967e-02, -1.08392067e-01,  4.50155513e-01,\n",
       "         1.76533510e+00,  8.70969803e-01, -5.08457134e-01,\n",
       "         7.77419205e-01, -1.18771172e-01, -1.98998184e-01,\n",
       "         1.86647138e+00, -4.18937898e-01, -4.79184915e-01,\n",
       "        -1.95210529e+00, -1.40232915e+00,  4.51122939e-01,\n",
       "        -6.94920901e-01,  5.15413802e-01, -1.11487105e+00],\n",
       "       [-7.67309826e-01,  6.74570707e-01,  1.46089238e+00,\n",
       "         5.92472801e-01,  1.19783084e+00,  1.70459417e+00,\n",
       "         1.04008915e+00, -9.18440038e-01, -1.05344713e-01,\n",
       "         6.30195671e-01, -4.14846901e-01,  4.51946037e-01,\n",
       "        -1.57915629e+00, -8.28627979e-01,  5.28879746e-01,\n",
       "        -2.23708651e+00, -1.10771250e+00, -1.77183179e-02,\n",
       "        -1.71939447e+00,  5.71209961e-02, -7.99547491e-01,\n",
       "        -2.91594596e-01, -2.58982853e-01,  1.89293198e-01,\n",
       "        -5.63788735e-01,  8.96864073e-02, -6.01156801e-01,\n",
       "         5.56073510e-01,  1.69380911e+00,  1.96869779e-01],\n",
       "       [ 1.69869255e-01, -1.16400797e+00,  6.93366226e-01,\n",
       "        -7.58067329e-01, -8.08847196e-01,  5.57439453e-01,\n",
       "         1.81038744e-01,  1.10717545e+00,  1.44287693e+00,\n",
       "        -5.39681562e-01,  1.28376990e-01,  1.76041518e+00,\n",
       "         9.66539250e-01,  7.13049050e-01,  1.30620607e+00,\n",
       "        -6.04602969e-01,  6.36583409e-01,  1.40925339e+00,\n",
       "         1.62091229e+00, -8.06184817e-01, -2.51674208e-01,\n",
       "         3.82715174e-01, -2.88997343e-01, -3.91816240e-01,\n",
       "         6.84001328e-01, -3.53409983e-01, -1.78791289e+00,\n",
       "         3.61847316e-01, -4.24492791e-01, -7.31530982e-01],\n",
       "       [-1.56573815e+00,  1.01382247e+00, -2.22711263e+00,\n",
       "        -1.69933360e+00, -2.75846063e-01,  1.22895559e+00,\n",
       "         1.30970591e+00, -1.15498263e+00, -1.77632196e-01,\n",
       "        -1.51045638e+00,  1.01120706e+00, -1.47656266e+00,\n",
       "        -1.43195745e-01,  1.03298378e+00, -2.22414029e-01,\n",
       "         1.47016034e+00, -8.70008223e-01,  3.69190470e-01,\n",
       "         8.53282186e-01, -1.39711730e-01,  1.38631426e+00,\n",
       "         5.48129585e-01, -1.63744959e+00,  3.95860270e+00,\n",
       "         6.48643644e-01,  1.07343294e-01, -1.39881282e+00,\n",
       "         8.17678188e-02, -4.59942831e-01,  6.44353666e-01],\n",
       "       [ 3.71670291e-01,  1.85300949e+00,  1.42251373e-01,\n",
       "         5.13505480e-01,  3.72456852e-01, -1.48489803e-01,\n",
       "        -1.83400197e-01,  1.10100020e+00,  7.80027135e-01,\n",
       "        -6.29441604e-01, -1.11343610e+00, -6.74100249e-02,\n",
       "         1.16143998e+00, -2.75293863e-02,  1.74643509e+00,\n",
       "        -7.75070287e-01,  1.41640538e-01, -2.51630386e+00,\n",
       "        -5.95667881e-01, -3.09121319e-01,  5.10937774e-01,\n",
       "         1.71066184e+00,  3.49435894e-02,  1.45391758e+00,\n",
       "         6.61681076e-01,  9.86352180e-01, -4.66154857e-01,\n",
       "         1.38499134e+00, -1.07296428e+00,  4.95158611e-01],\n",
       "       [-9.52062101e-01, -5.18145552e-01, -1.46140360e+00,\n",
       "        -5.16347909e-01,  3.51116897e-01, -6.87704631e-02,\n",
       "        -1.34776494e+00,  1.47073986e+00,  3.37220938e-01,\n",
       "         1.00806543e+00,  7.85226920e-01, -6.64867767e-01,\n",
       "        -1.94504696e+00, -9.15424368e-01,  1.22515585e+00,\n",
       "        -1.05354607e+00,  8.16043684e-01, -6.12406973e-01,\n",
       "         3.93109245e-01, -1.82391985e+00,  1.16707517e+00,\n",
       "        -3.96687001e-02,  8.85825799e-01,  1.89861649e-01,\n",
       "         7.98063795e-01, -1.01932039e-01,  7.43356544e-01,\n",
       "        -1.50957268e+00, -1.08071069e+00,  7.25474004e-01],\n",
       "       [-3.91782562e-02, -2.28754171e-01, -1.79612295e-01,\n",
       "         5.01725109e-01, -5.93343754e-01,  5.10307597e-01,\n",
       "        -9.15791849e-01, -4.07252043e-01,  9.84951672e-01,\n",
       "         1.07125243e+00, -1.09715436e+00,  8.38634747e-01,\n",
       "        -1.03918232e+00,  7.33023232e-01, -1.89881206e+00,\n",
       "        -1.11711069e+00, -5.08972278e-01, -1.66485955e-01,\n",
       "         1.42361443e+00,  9.03999174e-01,  1.57546791e+00,\n",
       "         1.20660790e+00, -2.82863552e-01, -2.66326884e-01,\n",
       "         1.06897162e+00,  4.03714310e-02, -1.56993672e-01,\n",
       "        -1.33520272e+00, -1.06460122e-01, -2.79099641e+00],\n",
       "       [-4.56117555e-01, -9.79890252e-01,  6.92574348e-01,\n",
       "        -4.78672356e-01, -3.29051549e-01,  1.34710546e+00,\n",
       "        -1.04906775e+00,  3.16658895e-01, -1.89526695e+00,\n",
       "         8.97291174e-02,  4.10265745e-01,  8.59870972e-01,\n",
       "        -8.98683193e-01,  3.19656942e-01,  3.18154200e-01,\n",
       "        -1.92316341e-02,  1.50016279e-01,  4.63534322e-01,\n",
       "         3.97880425e-01, -9.96010889e-01, -1.19586151e+00,\n",
       "         2.50598029e+00,  1.91979229e+00, -1.39169388e+00,\n",
       "         4.50217742e-01,  6.27437083e-01,  7.51337235e-01,\n",
       "         1.40395436e-01, -9.26871939e-01, -1.82420406e-01],\n",
       "       [-4.91125138e-01,  1.34373116e-01, -2.68371304e-01,\n",
       "        -1.31675626e-01,  1.01855247e+00,  1.23055820e+00,\n",
       "        -1.18110317e+00, -4.59930104e-01, -7.90799954e-01,\n",
       "         1.22372221e+00, -5.93679025e-02,  1.44898940e+00,\n",
       "        -4.77580855e-01,  2.59999942e-02, -1.34869645e+00,\n",
       "         1.30253554e+00, -3.62612088e-01, -1.48515645e+00,\n",
       "        -5.92461285e-01, -2.30490794e+00, -3.18171727e-02,\n",
       "         1.12487742e-01,  2.88078167e-01,  1.49810818e+00,\n",
       "        -3.00976154e-01,  8.07455917e-01,  3.12238689e-01,\n",
       "        -1.93321640e-01, -2.07680202e+00,  9.47501167e-01],\n",
       "       [-5.03973949e-01,  1.79558917e-02, -1.27046078e+00,\n",
       "         2.82995534e-01,  1.08030817e-01,  2.94176190e-02,\n",
       "        -1.34793129e-01,  1.04921829e+00,  9.66220863e-01,\n",
       "         7.25916853e-01,  3.32107876e+00, -6.00225330e-01,\n",
       "        -3.79517516e-01, -1.01480369e+00,  4.35986196e-01,\n",
       "        -6.87487393e-01, -2.69836174e+00, -1.21333813e+00,\n",
       "         7.22518992e-02,  1.00978733e+00, -1.55694156e+00,\n",
       "        -6.12442128e-01, -1.39351805e-01, -7.28537489e-01,\n",
       "         5.31163793e-01,  4.00084198e-03,  3.21265914e-01,\n",
       "        -7.25214926e-01,  1.53653633e+00, -3.75008758e-04],\n",
       "       [ 1.29354962e+00, -4.38997664e-01,  5.90039464e-01,\n",
       "        -6.79383783e-01, -9.50909251e-01, -7.04350332e-01,\n",
       "        -4.58666861e-02, -2.18733459e-01,  1.53920701e+00,\n",
       "        -1.14870423e+00, -1.09033833e+00,  1.70018815e+00,\n",
       "         6.08783659e-01, -1.88141087e+00,  4.97269099e-01,\n",
       "         2.37332699e-01, -2.14444405e+00, -3.69562425e-01,\n",
       "        -1.74549518e-02,  7.31402517e-01,  9.54495667e-01,\n",
       "         9.57467711e-02,  1.03345080e+00, -1.46273275e-01,\n",
       "        -8.57496825e-01, -9.34181843e-01,  5.42645295e-01,\n",
       "        -1.95816909e+00,  6.77807571e-01, -1.10657307e+00],\n",
       "       [-3.59224096e-01,  5.05381903e-01,  1.21794090e+00,\n",
       "        -1.94068096e+00, -8.06178212e-01,  4.90616924e-02,\n",
       "        -5.96086335e-01,  8.61623101e-01, -2.08639057e+00,\n",
       "         3.61801641e-01,  4.25920177e-01,  4.90803971e-02,\n",
       "         1.10223673e+00, -1.22957425e+00,  1.10861676e+00,\n",
       "        -7.02920403e-01,  7.25550518e-01, -3.24204219e-01,\n",
       "         8.14343129e-01,  7.80469930e-01, -1.46405357e+00,\n",
       "        -1.54491194e-01, -9.24323185e-02, -2.37875265e-01,\n",
       "        -7.55662765e-01,  1.85143789e+00,  2.09096677e-01,\n",
       "         1.55501599e+00, -5.69148654e-01, -1.06179676e+00],\n",
       "       [ 1.32247779e-01, -5.63236604e-01,  2.39014596e+00,\n",
       "         2.45422849e-01,  1.15259914e+00, -2.24235772e-01,\n",
       "        -3.26061306e-01, -3.09114176e-02,  3.55717262e-01,\n",
       "         8.49586845e-01, -1.22154015e-01, -6.80851574e-01,\n",
       "        -1.06787658e+00, -7.66793627e-02,  5.72962726e-01,\n",
       "         4.57947076e-01, -1.78175491e-02, -6.00138799e-01,\n",
       "         1.46765263e-01,  5.71804879e-01, -3.68176565e-02,\n",
       "         1.12368489e-01, -1.50504326e-01,  9.15499268e-01,\n",
       "        -4.38200267e-01,  1.85535621e-01,  3.94428030e-01,\n",
       "         7.25522558e-01,  1.49588477e+00,  6.75453809e-01],\n",
       "       [ 5.99213235e-01, -1.47023709e+00,  6.06403944e-01,\n",
       "         2.29371761e+00, -8.30010986e-01, -1.01951985e+00,\n",
       "        -2.14653842e-01,  1.02124813e+00,  5.24750492e-01,\n",
       "        -4.77124206e-01, -3.59901817e-02,  1.03703898e+00,\n",
       "         6.72619748e-01,  2.42887697e+00,  1.00568668e+00,\n",
       "         3.53567216e-01,  6.14726276e-01, -3.48984191e-01,\n",
       "        -9.77773002e-01,  1.71957132e-01,  4.90561044e-01,\n",
       "        -1.39528303e+00, -5.22356465e-01, -3.69255902e-01,\n",
       "         2.65642403e-01, -2.60466059e-01,  4.45096710e-01,\n",
       "         9.81122462e-02,  1.06032751e+00, -1.71116766e+00],\n",
       "       [ 1.65712464e+00,  1.41767401e+00,  5.03170861e-02,\n",
       "         6.50323214e-01,  6.06548400e-01, -7.37289628e-01,\n",
       "         1.64665066e-01,  7.78174179e-01,  3.09816759e-01,\n",
       "         1.05132077e+00,  9.49961101e-02,  8.07509886e-02,\n",
       "        -7.67803746e-01, -3.64538050e-01, -4.59717681e-01,\n",
       "         1.70548352e+00,  2.40505552e-01, -9.99426501e-01,\n",
       "         3.98598388e-01, -1.92003697e-01, -3.05376438e+00,\n",
       "         4.79852371e-01, -1.55269878e+00,  5.78464420e-01,\n",
       "        -9.61263599e-01, -1.45832446e+00,  4.94341651e-01,\n",
       "        -1.49419377e+00, -4.46699203e-01,  2.04377395e-01]])"
      ]
     },
     "execution_count": 45,
     "metadata": {},
     "output_type": "execute_result"
    }
   ],
   "source": [
    "image = np.random.randn(30, 30)\n",
    "image"
   ]
  },
  {
   "cell_type": "code",
   "execution_count": 46,
   "metadata": {},
   "outputs": [
    {
     "name": "stdout",
     "output_type": "stream",
     "text": [
      "Element Sayısı:  900\n",
      "Boyut Sayısı:  2\n",
      "Dizinin Satır ve Sütun yapısı:  (30, 30)\n",
      "Veri Tipi:  float64\n"
     ]
    }
   ],
   "source": [
    "print_info(image)"
   ]
  },
  {
   "cell_type": "code",
   "execution_count": 47,
   "metadata": {},
   "outputs": [
    {
     "data": {
      "image/png": "[encoded data removed]",
      "text/plain": [
       "<Figure size 432x288 with 2 Axes>"
      ]
     },
     "metadata": {
      "needs_background": "light"
     },
     "output_type": "display_data"
    }
   ],
   "source": [
    "plt.imshow(image, cmap=plt.cm.hot) \n",
    "plt.colorbar()\n",
    "plt.show()"
   ]
  },
  {
   "cell_type": "markdown",
   "metadata": {},
   "source": [
    "## 1.1.4: İndeksleme - Bölümleme"
   ]
  },
  {
   "cell_type": "code",
   "execution_count": 48,
   "metadata": {},
   "outputs": [
    {
     "data": {
      "text/plain": [
       "array([0, 1, 2, 3, 4, 5, 6, 7, 8, 9])"
      ]
     },
     "execution_count": 48,
     "metadata": {},
     "output_type": "execute_result"
    }
   ],
   "source": [
    "a = np.arange(10)\n",
    "a"
   ]
  },
  {
   "cell_type": "code",
   "execution_count": 49,
   "metadata": {},
   "outputs": [
    {
     "data": {
      "text/plain": [
       "(0, 2, 9)"
      ]
     },
     "execution_count": 49,
     "metadata": {},
     "output_type": "execute_result"
    }
   ],
   "source": [
    "a[0], a[2], a[-1]"
   ]
  },
  {
   "cell_type": "code",
   "execution_count": 50,
   "metadata": {},
   "outputs": [
    {
     "data": {
      "text/plain": [
       "array([9, 8, 7, 6, 5, 4, 3, 2, 1, 0])"
      ]
     },
     "execution_count": 50,
     "metadata": {},
     "output_type": "execute_result"
    }
   ],
   "source": [
    "a[::-1]"
   ]
  },
  {
   "cell_type": "code",
   "execution_count": 51,
   "metadata": {},
   "outputs": [
    {
     "data": {
      "text/plain": [
       "array([9, 8, 7, 6, 5, 4, 3, 2, 1, 0])"
      ]
     },
     "execution_count": 51,
     "metadata": {},
     "output_type": "execute_result"
    }
   ],
   "source": [
    "a[::-1]"
   ]
  },
  {
   "cell_type": "code",
   "execution_count": 52,
   "metadata": {},
   "outputs": [
    {
     "data": {
      "text/plain": [
       "array([0, 1, 2])"
      ]
     },
     "execution_count": 52,
     "metadata": {},
     "output_type": "execute_result"
    }
   ],
   "source": [
    "np.arange(3)"
   ]
  },
  {
   "cell_type": "code",
   "execution_count": 53,
   "metadata": {},
   "outputs": [
    {
     "data": {
      "text/plain": [
       "array([[0, 0, 0],\n",
       "       [0, 1, 0],\n",
       "       [0, 0, 2]])"
      ]
     },
     "execution_count": 53,
     "metadata": {},
     "output_type": "execute_result"
    }
   ],
   "source": [
    "a = np.diag(np.arange(3))\n",
    "a"
   ]
  },
  {
   "cell_type": "code",
   "execution_count": 54,
   "metadata": {},
   "outputs": [
    {
     "data": {
      "text/plain": [
       "0"
      ]
     },
     "execution_count": 54,
     "metadata": {},
     "output_type": "execute_result"
    }
   ],
   "source": [
    "a[1,2]"
   ]
  },
  {
   "cell_type": "code",
   "execution_count": 55,
   "metadata": {},
   "outputs": [
    {
     "data": {
      "text/plain": [
       "array([[ 0,  0,  0],\n",
       "       [ 0,  1,  0],\n",
       "       [ 0, 10,  2]])"
      ]
     },
     "execution_count": 55,
     "metadata": {},
     "output_type": "execute_result"
    }
   ],
   "source": [
    "a[2, 1] = 10\n",
    "a"
   ]
  },
  {
   "cell_type": "code",
   "execution_count": 56,
   "metadata": {},
   "outputs": [
    {
     "data": {
      "text/plain": [
       "array([0, 0, 0])"
      ]
     },
     "execution_count": 56,
     "metadata": {},
     "output_type": "execute_result"
    }
   ],
   "source": [
    "a[0]"
   ]
  },
  {
   "cell_type": "markdown",
   "metadata": {},
   "source": [
    "**Not:**\n",
    "- 2B'de, ilk boyut satırlara, ikincisi sütunlara karşılık gelir.\n",
    "- Çok boyutlu a için, a[0] belirtilmemiş boyutlardaki tüm elemanlar alınarak yorumlanır."
   ]
  },
  {
   "cell_type": "markdown",
   "metadata": {},
   "source": [
    "**Bölümleme**: Diğer Python dizileri gibi diziler de bölümlenebilir."
   ]
  },
  {
   "cell_type": "code",
   "execution_count": 57,
   "metadata": {},
   "outputs": [
    {
     "data": {
      "text/plain": [
       "array([0, 1, 2, 3, 4, 5, 6, 7, 8, 9])"
      ]
     },
     "execution_count": 57,
     "metadata": {},
     "output_type": "execute_result"
    }
   ],
   "source": [
    "a = np.arange(10)\n",
    "a"
   ]
  },
  {
   "cell_type": "code",
   "execution_count": 58,
   "metadata": {},
   "outputs": [
    {
     "data": {
      "text/plain": [
       "array([2, 3, 4, 5, 6, 7, 8])"
      ]
     },
     "execution_count": 58,
     "metadata": {},
     "output_type": "execute_result"
    }
   ],
   "source": [
    "a[2:9]"
   ]
  },
  {
   "cell_type": "code",
   "execution_count": 59,
   "metadata": {},
   "outputs": [
    {
     "data": {
      "text/plain": [
       "array([2, 5, 8])"
      ]
     },
     "execution_count": 59,
     "metadata": {},
     "output_type": "execute_result"
    }
   ],
   "source": [
    "a[2:9:3] # [Başlangıç:Son:Adım] "
   ]
  },
  {
   "cell_type": "code",
   "execution_count": 60,
   "metadata": {},
   "outputs": [
    {
     "data": {
      "text/plain": [
       "array([0, 1, 2, 3])"
      ]
     },
     "execution_count": 60,
     "metadata": {},
     "output_type": "execute_result"
    }
   ],
   "source": [
    "a[:4]"
   ]
  },
  {
   "cell_type": "code",
   "execution_count": 61,
   "metadata": {},
   "outputs": [
    {
     "data": {
      "text/plain": [
       "array([1, 2])"
      ]
     },
     "execution_count": 61,
     "metadata": {},
     "output_type": "execute_result"
    }
   ],
   "source": [
    "a[1:3]"
   ]
  },
  {
   "cell_type": "code",
   "execution_count": 62,
   "metadata": {},
   "outputs": [
    {
     "data": {
      "text/plain": [
       "array([0, 2, 4, 6, 8])"
      ]
     },
     "execution_count": 62,
     "metadata": {},
     "output_type": "execute_result"
    }
   ],
   "source": [
    "a[::2]"
   ]
  },
  {
   "cell_type": "code",
   "execution_count": 63,
   "metadata": {},
   "outputs": [
    {
     "data": {
      "text/plain": [
       "array([3, 4, 5, 6, 7, 8, 9])"
      ]
     },
     "execution_count": 63,
     "metadata": {},
     "output_type": "execute_result"
    }
   ],
   "source": [
    "a[3:]"
   ]
  },
  {
   "cell_type": "markdown",
   "metadata": {},
   "source": [
    "![](figure/slicing.png)"
   ]
  },
  {
   "cell_type": "markdown",
   "metadata": {},
   "source": [
    "- Atama ve bölümleme birleştirilebilir"
   ]
  },
  {
   "cell_type": "code",
   "execution_count": 64,
   "metadata": {},
   "outputs": [
    {
     "data": {
      "text/plain": [
       "array([0, 1, 2, 3, 4, 5, 6, 7, 8, 9])"
      ]
     },
     "execution_count": 64,
     "metadata": {},
     "output_type": "execute_result"
    }
   ],
   "source": [
    "a = np.arange(10)\n",
    "a"
   ]
  },
  {
   "cell_type": "code",
   "execution_count": 65,
   "metadata": {},
   "outputs": [
    {
     "data": {
      "text/plain": [
       "array([ 0,  1,  2,  3,  4, 10, 10, 10, 10, 10])"
      ]
     },
     "execution_count": 65,
     "metadata": {},
     "output_type": "execute_result"
    }
   ],
   "source": [
    "a[5:] = 10\n",
    "a"
   ]
  },
  {
   "cell_type": "code",
   "execution_count": 66,
   "metadata": {},
   "outputs": [
    {
     "data": {
      "text/plain": [
       "array([0, 1, 2, 3, 4])"
      ]
     },
     "execution_count": 66,
     "metadata": {},
     "output_type": "execute_result"
    }
   ],
   "source": [
    "b = np.arange(5)\n",
    "b"
   ]
  },
  {
   "cell_type": "code",
   "execution_count": 67,
   "metadata": {},
   "outputs": [
    {
     "data": {
      "text/plain": [
       "array([4, 3, 2, 1, 0])"
      ]
     },
     "execution_count": 67,
     "metadata": {},
     "output_type": "execute_result"
    }
   ],
   "source": [
    "b[::-1]"
   ]
  },
  {
   "cell_type": "code",
   "execution_count": 68,
   "metadata": {},
   "outputs": [
    {
     "data": {
      "text/plain": [
       "array([0, 1, 2, 3, 4, 4, 3, 2, 1, 0])"
      ]
     },
     "execution_count": 68,
     "metadata": {},
     "output_type": "execute_result"
    }
   ],
   "source": [
    "a[5:] = b[::-1]\n",
    "a"
   ]
  },
  {
   "cell_type": "markdown",
   "metadata": {},
   "source": [
    "## 1.1.5: Kopyalama ve Görümler (copies and views)"
   ]
  },
  {
   "cell_type": "markdown",
   "metadata": {},
   "source": [
    "- Bir dilimleme işlemi, orijinal dizi üzerinde bir görünüm oluşturur, bu sadece dizi verilerine erişmenin bir yoludur. Böylece orijinal dizi hafızaya kopyalanmaz. İki dizinin aynı bellek bloğunu paylaşıp paylaşmadığını kontrol etmek için np.may_share_memory () kullanabilirsiniz. Ancak, burada sezgisel (heuristics) yöntemler kullandığını ve size yanlış pozitifler verebileceğini unutmayın."
   ]
  },
  {
   "cell_type": "code",
   "execution_count": 69,
   "metadata": {},
   "outputs": [
    {
     "data": {
      "text/plain": [
       "array([0, 1, 2, 3, 4, 5, 6, 7, 8, 9])"
      ]
     },
     "execution_count": 69,
     "metadata": {},
     "output_type": "execute_result"
    }
   ],
   "source": [
    "a = np.arange(10)\n",
    "a"
   ]
  },
  {
   "cell_type": "code",
   "execution_count": 70,
   "metadata": {},
   "outputs": [
    {
     "data": {
      "text/plain": [
       "array([0, 2, 4, 6, 8])"
      ]
     },
     "execution_count": 70,
     "metadata": {},
     "output_type": "execute_result"
    }
   ],
   "source": [
    "b = a[::2]\n",
    "b"
   ]
  },
  {
   "cell_type": "code",
   "execution_count": 71,
   "metadata": {},
   "outputs": [
    {
     "data": {
      "text/plain": [
       "True"
      ]
     },
     "execution_count": 71,
     "metadata": {},
     "output_type": "execute_result"
    }
   ],
   "source": [
    "np.may_share_memory(a, b)"
   ]
  },
  {
   "cell_type": "code",
   "execution_count": 72,
   "metadata": {},
   "outputs": [
    {
     "data": {
      "text/plain": [
       "array([12,  2,  4,  6,  8])"
      ]
     },
     "execution_count": 72,
     "metadata": {},
     "output_type": "execute_result"
    }
   ],
   "source": [
    "b[0] = 12\n",
    "b"
   ]
  },
  {
   "cell_type": "code",
   "execution_count": 73,
   "metadata": {},
   "outputs": [
    {
     "data": {
      "text/plain": [
       "array([12,  1,  2,  3,  4,  5,  6,  7,  8,  9])"
      ]
     },
     "execution_count": 73,
     "metadata": {},
     "output_type": "execute_result"
    }
   ],
   "source": [
    "a"
   ]
  },
  {
   "cell_type": "code",
   "execution_count": 74,
   "metadata": {},
   "outputs": [],
   "source": [
    "a = np.arange(10)"
   ]
  },
  {
   "cell_type": "code",
   "execution_count": 75,
   "metadata": {},
   "outputs": [],
   "source": [
    "c = a[::2].copy()"
   ]
  },
  {
   "cell_type": "code",
   "execution_count": 76,
   "metadata": {},
   "outputs": [
    {
     "data": {
      "text/plain": [
       "array([0, 2, 4, 6, 8])"
      ]
     },
     "execution_count": 76,
     "metadata": {},
     "output_type": "execute_result"
    }
   ],
   "source": [
    "c"
   ]
  },
  {
   "cell_type": "code",
   "execution_count": 77,
   "metadata": {},
   "outputs": [
    {
     "data": {
      "text/plain": [
       "array([12,  2,  4,  6,  8])"
      ]
     },
     "execution_count": 77,
     "metadata": {},
     "output_type": "execute_result"
    }
   ],
   "source": [
    "c[0] = 12\n",
    "c"
   ]
  },
  {
   "cell_type": "code",
   "execution_count": 78,
   "metadata": {},
   "outputs": [
    {
     "data": {
      "text/plain": [
       "array([0, 1, 2, 3, 4, 5, 6, 7, 8, 9])"
      ]
     },
     "execution_count": 78,
     "metadata": {},
     "output_type": "execute_result"
    }
   ],
   "source": [
    "a"
   ]
  },
  {
   "cell_type": "code",
   "execution_count": 79,
   "metadata": {},
   "outputs": [
    {
     "data": {
      "text/plain": [
       "False"
      ]
     },
     "execution_count": 79,
     "metadata": {},
     "output_type": "execute_result"
    }
   ],
   "source": [
    "np.may_share_memory(a, c)"
   ]
  },
  {
   "cell_type": "markdown",
   "metadata": {},
   "source": [
    "## 1.1.6: Fancy İndekleme - Mask"
   ]
  },
  {
   "cell_type": "markdown",
   "metadata": {},
   "source": [
    "- Bool ifadeyle indeksleme"
   ]
  },
  {
   "cell_type": "code",
   "execution_count": 80,
   "metadata": {},
   "outputs": [
    {
     "data": {
      "text/plain": [
       "array([10,  3,  8,  0, 19, 10, 11,  9, 10,  6,  0, 20, 12,  7, 14])"
      ]
     },
     "execution_count": 80,
     "metadata": {},
     "output_type": "execute_result"
    }
   ],
   "source": [
    "np.random.seed(3)\n",
    "a = np.random.randint(0, 21, 15)\n",
    "a"
   ]
  },
  {
   "cell_type": "code",
   "execution_count": 81,
   "metadata": {},
   "outputs": [
    {
     "data": {
      "text/plain": [
       "array([False,  True, False,  True, False, False, False,  True, False,\n",
       "        True,  True, False,  True, False, False])"
      ]
     },
     "execution_count": 81,
     "metadata": {},
     "output_type": "execute_result"
    }
   ],
   "source": [
    "(a % 3 == 0)"
   ]
  },
  {
   "cell_type": "code",
   "execution_count": 82,
   "metadata": {},
   "outputs": [],
   "source": [
    "mask = (a % 3 == 0)"
   ]
  },
  {
   "cell_type": "code",
   "execution_count": 83,
   "metadata": {},
   "outputs": [
    {
     "data": {
      "text/plain": [
       "array([10,  3,  8,  0, 19, 10, 11,  9, 10,  6,  0, 20, 12,  7, 14])"
      ]
     },
     "execution_count": 83,
     "metadata": {},
     "output_type": "execute_result"
    }
   ],
   "source": [
    "a"
   ]
  },
  {
   "cell_type": "code",
   "execution_count": 84,
   "metadata": {},
   "outputs": [
    {
     "data": {
      "text/plain": [
       "array([ 3,  0,  9,  6,  0, 12])"
      ]
     },
     "execution_count": 84,
     "metadata": {},
     "output_type": "execute_result"
    }
   ],
   "source": [
    "extract_from_a = a[mask] # or, a[a%3==0]\n",
    "extract_from_a"
   ]
  },
  {
   "cell_type": "code",
   "execution_count": 85,
   "metadata": {},
   "outputs": [
    {
     "data": {
      "text/plain": [
       "array([10, -1,  8, -1, 19, 10, 11, -1, 10, -1, -1, 20, -1,  7, 14])"
      ]
     },
     "execution_count": 85,
     "metadata": {},
     "output_type": "execute_result"
    }
   ],
   "source": [
    "a[mask] = -1\n",
    "a"
   ]
  },
  {
   "cell_type": "markdown",
   "metadata": {},
   "source": [
    "- Tamsayılar ile indeksleme"
   ]
  },
  {
   "cell_type": "code",
   "execution_count": 86,
   "metadata": {},
   "outputs": [
    {
     "data": {
      "text/plain": [
       "array([ 0, 10, 20, 30, 40, 50, 60, 70, 80, 90])"
      ]
     },
     "execution_count": 86,
     "metadata": {},
     "output_type": "execute_result"
    }
   ],
   "source": [
    "a = np.arange(0, 100, 10)\n",
    "a"
   ]
  },
  {
   "cell_type": "code",
   "execution_count": 87,
   "metadata": {},
   "outputs": [
    {
     "data": {
      "text/plain": [
       "array([20, 30, 20, 40, 20])"
      ]
     },
     "execution_count": 87,
     "metadata": {},
     "output_type": "execute_result"
    }
   ],
   "source": [
    "a[[2,3,2,4,2]] "
   ]
  },
  {
   "cell_type": "code",
   "execution_count": 88,
   "metadata": {},
   "outputs": [
    {
     "data": {
      "text/plain": [
       "array([   0,   10,   20,   30,   40,   50,   60, -100,   80, -100])"
      ]
     },
     "execution_count": 88,
     "metadata": {},
     "output_type": "execute_result"
    }
   ],
   "source": [
    "a[[7,9]] = -100\n",
    "a"
   ]
  },
  {
   "cell_type": "markdown",
   "metadata": {},
   "source": [
    "**Dizi Birleştirme (Stacking)**"
   ]
  },
  {
   "cell_type": "code",
   "execution_count": 89,
   "metadata": {},
   "outputs": [],
   "source": [
    "a = np.array([[2,4,6], [1,2,3]])\n",
    "b = np.array([[7,8,9], [4,3,2]])"
   ]
  },
  {
   "cell_type": "code",
   "execution_count": 90,
   "metadata": {},
   "outputs": [
    {
     "data": {
      "text/plain": [
       "array([[2, 4, 6],\n",
       "       [1, 2, 3]])"
      ]
     },
     "execution_count": 90,
     "metadata": {},
     "output_type": "execute_result"
    }
   ],
   "source": [
    "a"
   ]
  },
  {
   "cell_type": "code",
   "execution_count": 91,
   "metadata": {},
   "outputs": [
    {
     "name": "stdout",
     "output_type": "stream",
     "text": [
      "Element Sayısı:  6\n",
      "Boyut Sayısı:  2\n",
      "Dizinin Satır ve Sütun yapısı:  (2, 3)\n",
      "Veri Tipi:  int64\n"
     ]
    }
   ],
   "source": [
    "print_info(a)"
   ]
  },
  {
   "cell_type": "code",
   "execution_count": 92,
   "metadata": {},
   "outputs": [
    {
     "name": "stdout",
     "output_type": "stream",
     "text": [
      "Element Sayısı:  6\n",
      "Boyut Sayısı:  2\n",
      "Dizinin Satır ve Sütun yapısı:  (2, 3)\n",
      "Veri Tipi:  int64\n"
     ]
    }
   ],
   "source": [
    "print_info(b)"
   ]
  },
  {
   "cell_type": "code",
   "execution_count": 93,
   "metadata": {},
   "outputs": [
    {
     "data": {
      "text/plain": [
       "array([[2, 4, 6],\n",
       "       [1, 2, 3],\n",
       "       [7, 8, 9],\n",
       "       [4, 3, 2]])"
      ]
     },
     "execution_count": 93,
     "metadata": {},
     "output_type": "execute_result"
    }
   ],
   "source": [
    "np.vstack((a,b))"
   ]
  },
  {
   "cell_type": "code",
   "execution_count": 94,
   "metadata": {},
   "outputs": [
    {
     "data": {
      "text/plain": [
       "array([[2, 4, 6, 7, 8, 9],\n",
       "       [1, 2, 3, 4, 3, 2]])"
      ]
     },
     "execution_count": 94,
     "metadata": {},
     "output_type": "execute_result"
    }
   ],
   "source": [
    "np.hstack((a,b))"
   ]
  },
  {
   "cell_type": "code",
   "execution_count": null,
   "metadata": {},
   "outputs": [],
   "source": []
  },
  {
   "cell_type": "markdown",
   "metadata": {},
   "source": [
    "## 1.2: Dizilerdeki Numerik Operatörler"
   ]
  },
  {
   "cell_type": "code",
   "execution_count": 95,
   "metadata": {},
   "outputs": [
    {
     "data": {
      "text/plain": [
       "array([1, 2, 3, 4])"
      ]
     },
     "execution_count": 95,
     "metadata": {},
     "output_type": "execute_result"
    }
   ],
   "source": [
    "a = np.array([1, 2, 3, 4])\n",
    "a"
   ]
  },
  {
   "cell_type": "code",
   "execution_count": 96,
   "metadata": {},
   "outputs": [
    {
     "data": {
      "text/plain": [
       "array([2, 3, 4, 5])"
      ]
     },
     "execution_count": 96,
     "metadata": {},
     "output_type": "execute_result"
    }
   ],
   "source": [
    "a + 1"
   ]
  },
  {
   "cell_type": "code",
   "execution_count": 97,
   "metadata": {},
   "outputs": [
    {
     "data": {
      "text/plain": [
       "array([ 2,  4,  8, 16])"
      ]
     },
     "execution_count": 97,
     "metadata": {},
     "output_type": "execute_result"
    }
   ],
   "source": [
    "2**a"
   ]
  },
  {
   "cell_type": "code",
   "execution_count": 98,
   "metadata": {},
   "outputs": [
    {
     "data": {
      "text/plain": [
       "array([1., 1., 1., 1.])"
      ]
     },
     "execution_count": 98,
     "metadata": {},
     "output_type": "execute_result"
    }
   ],
   "source": [
    "np.ones(4)"
   ]
  },
  {
   "cell_type": "code",
   "execution_count": 99,
   "metadata": {},
   "outputs": [
    {
     "data": {
      "text/plain": [
       "array([2., 2., 2., 2.])"
      ]
     },
     "execution_count": 99,
     "metadata": {},
     "output_type": "execute_result"
    }
   ],
   "source": [
    "b = np.ones(4) + 1\n",
    "b"
   ]
  },
  {
   "cell_type": "code",
   "execution_count": 100,
   "metadata": {},
   "outputs": [
    {
     "data": {
      "text/plain": [
       "array([-1.,  0.,  1.,  2.])"
      ]
     },
     "execution_count": 100,
     "metadata": {},
     "output_type": "execute_result"
    }
   ],
   "source": [
    "a - b"
   ]
  },
  {
   "cell_type": "code",
   "execution_count": 101,
   "metadata": {},
   "outputs": [
    {
     "data": {
      "text/plain": [
       "array([2., 4., 6., 8.])"
      ]
     },
     "execution_count": 101,
     "metadata": {},
     "output_type": "execute_result"
    }
   ],
   "source": [
    "a * b"
   ]
  },
  {
   "cell_type": "code",
   "execution_count": 102,
   "metadata": {},
   "outputs": [
    {
     "data": {
      "text/plain": [
       "array([ 2,  3,  6, 13, 28])"
      ]
     },
     "execution_count": 102,
     "metadata": {},
     "output_type": "execute_result"
    }
   ],
   "source": [
    "j = np.arange(5)\n",
    "2**(j + 1) - j"
   ]
  },
  {
   "cell_type": "code",
   "execution_count": 103,
   "metadata": {},
   "outputs": [
    {
     "name": "stdout",
     "output_type": "stream",
     "text": [
      "7.81 µs ± 213 ns per loop (mean ± std. dev. of 7 runs, 100000 loops each)\n"
     ]
    }
   ],
   "source": [
    "a = np.arange(10000)\n",
    "%timeit a + 1  "
   ]
  },
  {
   "cell_type": "code",
   "execution_count": 104,
   "metadata": {},
   "outputs": [
    {
     "name": "stdout",
     "output_type": "stream",
     "text": [
      "1.02 ms ± 143 µs per loop (mean ± std. dev. of 7 runs, 1000 loops each)\n"
     ]
    }
   ],
   "source": [
    "l = range(10000)\n",
    "%timeit [i+1 for i in l]"
   ]
  },
  {
   "cell_type": "markdown",
   "metadata": {},
   "source": [
    "**Dizilerin Çarpımı** - Matrislerin değil"
   ]
  },
  {
   "cell_type": "code",
   "execution_count": 105,
   "metadata": {},
   "outputs": [
    {
     "data": {
      "text/plain": [
       "array([[1., 1., 1.],\n",
       "       [1., 1., 1.],\n",
       "       [1., 1., 1.]])"
      ]
     },
     "execution_count": 105,
     "metadata": {},
     "output_type": "execute_result"
    }
   ],
   "source": [
    "c = np.ones((3, 3))\n",
    "c * c                   "
   ]
  },
  {
   "cell_type": "markdown",
   "metadata": {},
   "source": [
    "- Matris Çarpımı"
   ]
  },
  {
   "cell_type": "code",
   "execution_count": 106,
   "metadata": {},
   "outputs": [
    {
     "data": {
      "text/plain": [
       "array([[3., 3., 3.],\n",
       "       [3., 3., 3.],\n",
       "       [3., 3., 3.]])"
      ]
     },
     "execution_count": 106,
     "metadata": {},
     "output_type": "execute_result"
    }
   ],
   "source": [
    "c.dot(c)"
   ]
  },
  {
   "cell_type": "markdown",
   "metadata": {},
   "source": [
    "- Karşılaştırma Operatörleri"
   ]
  },
  {
   "cell_type": "code",
   "execution_count": 107,
   "metadata": {},
   "outputs": [],
   "source": [
    "a = np.array([1, 2, 3, 4])\n",
    "b = np.array([4, 2, 2, 4])"
   ]
  },
  {
   "cell_type": "code",
   "execution_count": 108,
   "metadata": {},
   "outputs": [
    {
     "data": {
      "text/plain": [
       "array([False,  True, False,  True])"
      ]
     },
     "execution_count": 108,
     "metadata": {},
     "output_type": "execute_result"
    }
   ],
   "source": [
    "a == b"
   ]
  },
  {
   "cell_type": "code",
   "execution_count": 109,
   "metadata": {},
   "outputs": [
    {
     "data": {
      "text/plain": [
       "array([False, False,  True, False])"
      ]
     },
     "execution_count": 109,
     "metadata": {},
     "output_type": "execute_result"
    }
   ],
   "source": [
    "a > b"
   ]
  },
  {
   "cell_type": "markdown",
   "metadata": {},
   "source": [
    "- Logic Operatörleri"
   ]
  },
  {
   "cell_type": "code",
   "execution_count": 110,
   "metadata": {},
   "outputs": [],
   "source": [
    "a = np.array([1, 1, 0, 0], dtype=bool)\n",
    "b = np.array([1, 0, 1, 0], dtype=bool)"
   ]
  },
  {
   "cell_type": "code",
   "execution_count": 111,
   "metadata": {},
   "outputs": [
    {
     "data": {
      "text/plain": [
       "array([ True,  True, False, False])"
      ]
     },
     "execution_count": 111,
     "metadata": {},
     "output_type": "execute_result"
    }
   ],
   "source": [
    "a"
   ]
  },
  {
   "cell_type": "code",
   "execution_count": 112,
   "metadata": {},
   "outputs": [
    {
     "data": {
      "text/plain": [
       "array([ True,  True,  True, False])"
      ]
     },
     "execution_count": 112,
     "metadata": {},
     "output_type": "execute_result"
    }
   ],
   "source": [
    "np.logical_or(a, b)"
   ]
  },
  {
   "cell_type": "code",
   "execution_count": 113,
   "metadata": {},
   "outputs": [
    {
     "data": {
      "text/plain": [
       "array([ True, False, False, False])"
      ]
     },
     "execution_count": 113,
     "metadata": {},
     "output_type": "execute_result"
    }
   ],
   "source": [
    "np.logical_and(a, b)"
   ]
  },
  {
   "cell_type": "markdown",
   "metadata": {},
   "source": [
    "- Trigonotmetrik ifadeler"
   ]
  },
  {
   "cell_type": "code",
   "execution_count": 114,
   "metadata": {},
   "outputs": [
    {
     "data": {
      "text/plain": [
       "array([0, 1, 2, 3, 4])"
      ]
     },
     "execution_count": 114,
     "metadata": {},
     "output_type": "execute_result"
    }
   ],
   "source": [
    "a = np.arange(5)\n",
    "a"
   ]
  },
  {
   "cell_type": "code",
   "execution_count": 115,
   "metadata": {},
   "outputs": [
    {
     "data": {
      "text/plain": [
       "array([ 0.        ,  0.84147098,  0.90929743,  0.14112001, -0.7568025 ])"
      ]
     },
     "execution_count": 115,
     "metadata": {},
     "output_type": "execute_result"
    }
   ],
   "source": [
    "np.sin(a)"
   ]
  },
  {
   "cell_type": "code",
   "execution_count": 116,
   "metadata": {},
   "outputs": [
    {
     "data": {
      "text/plain": [
       "array([ 1.        ,  0.54030231, -0.41614684, -0.9899925 , -0.65364362])"
      ]
     },
     "execution_count": 116,
     "metadata": {},
     "output_type": "execute_result"
    }
   ],
   "source": [
    "np.cos(a)"
   ]
  },
  {
   "cell_type": "markdown",
   "metadata": {},
   "source": [
    "## 1.2.1: Temel İstatistik"
   ]
  },
  {
   "cell_type": "code",
   "execution_count": 117,
   "metadata": {},
   "outputs": [
    {
     "data": {
      "text/plain": [
       "array([   0.        ,    3.34448161,    6.68896321,   10.03344482,\n",
       "         13.37792642,   16.72240803,   20.06688963,   23.41137124,\n",
       "         26.75585284,   30.10033445,   33.44481605,   36.78929766,\n",
       "         40.13377926,   43.47826087,   46.82274247,   50.16722408,\n",
       "         53.51170569,   56.85618729,   60.2006689 ,   63.5451505 ,\n",
       "         66.88963211,   70.23411371,   73.57859532,   76.92307692,\n",
       "         80.26755853,   83.61204013,   86.95652174,   90.30100334,\n",
       "         93.64548495,   96.98996656,  100.33444816,  103.67892977,\n",
       "        107.02341137,  110.36789298,  113.71237458,  117.05685619,\n",
       "        120.40133779,  123.7458194 ,  127.090301  ,  130.43478261,\n",
       "        133.77926421,  137.12374582,  140.46822742,  143.81270903,\n",
       "        147.15719064,  150.50167224,  153.84615385,  157.19063545,\n",
       "        160.53511706,  163.87959866,  167.22408027,  170.56856187,\n",
       "        173.91304348,  177.25752508,  180.60200669,  183.94648829,\n",
       "        187.2909699 ,  190.63545151,  193.97993311,  197.32441472,\n",
       "        200.66889632,  204.01337793,  207.35785953,  210.70234114,\n",
       "        214.04682274,  217.39130435,  220.73578595,  224.08026756,\n",
       "        227.42474916,  230.76923077,  234.11371237,  237.45819398,\n",
       "        240.80267559,  244.14715719,  247.4916388 ,  250.8361204 ,\n",
       "        254.18060201,  257.52508361,  260.86956522,  264.21404682,\n",
       "        267.55852843,  270.90301003,  274.24749164,  277.59197324,\n",
       "        280.93645485,  284.28093645,  287.62541806,  290.96989967,\n",
       "        294.31438127,  297.65886288,  301.00334448,  304.34782609,\n",
       "        307.69230769,  311.0367893 ,  314.3812709 ,  317.72575251,\n",
       "        321.07023411,  324.41471572,  327.75919732,  331.10367893,\n",
       "        334.44816054,  337.79264214,  341.13712375,  344.48160535,\n",
       "        347.82608696,  351.17056856,  354.51505017,  357.85953177,\n",
       "        361.20401338,  364.54849498,  367.89297659,  371.23745819,\n",
       "        374.5819398 ,  377.9264214 ,  381.27090301,  384.61538462,\n",
       "        387.95986622,  391.30434783,  394.64882943,  397.99331104,\n",
       "        401.33779264,  404.68227425,  408.02675585,  411.37123746,\n",
       "        414.71571906,  418.06020067,  421.40468227,  424.74916388,\n",
       "        428.09364548,  431.43812709,  434.7826087 ,  438.1270903 ,\n",
       "        441.47157191,  444.81605351,  448.16053512,  451.50501672,\n",
       "        454.84949833,  458.19397993,  461.53846154,  464.88294314,\n",
       "        468.22742475,  471.57190635,  474.91638796,  478.26086957,\n",
       "        481.60535117,  484.94983278,  488.29431438,  491.63879599,\n",
       "        494.98327759,  498.3277592 ,  501.6722408 ,  505.01672241,\n",
       "        508.36120401,  511.70568562,  515.05016722,  518.39464883,\n",
       "        521.73913043,  525.08361204,  528.42809365,  531.77257525,\n",
       "        535.11705686,  538.46153846,  541.80602007,  545.15050167,\n",
       "        548.49498328,  551.83946488,  555.18394649,  558.52842809,\n",
       "        561.8729097 ,  565.2173913 ,  568.56187291,  571.90635452,\n",
       "        575.25083612,  578.59531773,  581.93979933,  585.28428094,\n",
       "        588.62876254,  591.97324415,  595.31772575,  598.66220736,\n",
       "        602.00668896,  605.35117057,  608.69565217,  612.04013378,\n",
       "        615.38461538,  618.72909699,  622.0735786 ,  625.4180602 ,\n",
       "        628.76254181,  632.10702341,  635.45150502,  638.79598662,\n",
       "        642.14046823,  645.48494983,  648.82943144,  652.17391304,\n",
       "        655.51839465,  658.86287625,  662.20735786,  665.55183946,\n",
       "        668.89632107,  672.24080268,  675.58528428,  678.92976589,\n",
       "        682.27424749,  685.6187291 ,  688.9632107 ,  692.30769231,\n",
       "        695.65217391,  698.99665552,  702.34113712,  705.68561873,\n",
       "        709.03010033,  712.37458194,  715.71906355,  719.06354515,\n",
       "        722.40802676,  725.75250836,  729.09698997,  732.44147157,\n",
       "        735.78595318,  739.13043478,  742.47491639,  745.81939799,\n",
       "        749.1638796 ,  752.5083612 ,  755.85284281,  759.19732441,\n",
       "        762.54180602,  765.88628763,  769.23076923,  772.57525084,\n",
       "        775.91973244,  779.26421405,  782.60869565,  785.95317726,\n",
       "        789.29765886,  792.64214047,  795.98662207,  799.33110368,\n",
       "        802.67558528,  806.02006689,  809.36454849,  812.7090301 ,\n",
       "        816.05351171,  819.39799331,  822.74247492,  826.08695652,\n",
       "        829.43143813,  832.77591973,  836.12040134,  839.46488294,\n",
       "        842.80936455,  846.15384615,  849.49832776,  852.84280936,\n",
       "        856.18729097,  859.53177258,  862.87625418,  866.22073579,\n",
       "        869.56521739,  872.909699  ,  876.2541806 ,  879.59866221,\n",
       "        882.94314381,  886.28762542,  889.63210702,  892.97658863,\n",
       "        896.32107023,  899.66555184,  903.01003344,  906.35451505,\n",
       "        909.69899666,  913.04347826,  916.38795987,  919.73244147,\n",
       "        923.07692308,  926.42140468,  929.76588629,  933.11036789,\n",
       "        936.4548495 ,  939.7993311 ,  943.14381271,  946.48829431,\n",
       "        949.83277592,  953.17725753,  956.52173913,  959.86622074,\n",
       "        963.21070234,  966.55518395,  969.89966555,  973.24414716,\n",
       "        976.58862876,  979.93311037,  983.27759197,  986.62207358,\n",
       "        989.96655518,  993.31103679,  996.65551839, 1000.        ])"
      ]
     },
     "execution_count": 117,
     "metadata": {},
     "output_type": "execute_result"
    }
   ],
   "source": [
    "x = np.linspace(0,1000,300)\n",
    "x"
   ]
  },
  {
   "cell_type": "code",
   "execution_count": 118,
   "metadata": {},
   "outputs": [
    {
     "data": {
      "text/plain": [
       "150000.0"
      ]
     },
     "execution_count": 118,
     "metadata": {},
     "output_type": "execute_result"
    }
   ],
   "source": [
    "np.sum(x) #toplam"
   ]
  },
  {
   "cell_type": "code",
   "execution_count": 119,
   "metadata": {},
   "outputs": [
    {
     "data": {
      "text/plain": [
       "150000.0"
      ]
     },
     "execution_count": 119,
     "metadata": {},
     "output_type": "execute_result"
    }
   ],
   "source": [
    "x.sum()"
   ]
  },
  {
   "cell_type": "code",
   "execution_count": 120,
   "metadata": {},
   "outputs": [
    {
     "data": {
      "text/plain": [
       "500.0"
      ]
     },
     "execution_count": 120,
     "metadata": {},
     "output_type": "execute_result"
    }
   ],
   "source": [
    "np.mean(x) #ortalama"
   ]
  },
  {
   "cell_type": "code",
   "execution_count": 121,
   "metadata": {},
   "outputs": [
    {
     "data": {
      "text/plain": [
       "500.0"
      ]
     },
     "execution_count": 121,
     "metadata": {},
     "output_type": "execute_result"
    }
   ],
   "source": [
    "np.median(x) #median"
   ]
  },
  {
   "cell_type": "code",
   "execution_count": 122,
   "metadata": {},
   "outputs": [
    {
     "data": {
      "text/plain": [
       "289.6389941534551"
      ]
     },
     "execution_count": 122,
     "metadata": {},
     "output_type": "execute_result"
    }
   ],
   "source": [
    "np.std(x) #standart sapma"
   ]
  },
  {
   "cell_type": "code",
   "execution_count": 123,
   "metadata": {},
   "outputs": [
    {
     "data": {
      "text/plain": [
       "83890.7469342252"
      ]
     },
     "execution_count": 123,
     "metadata": {},
     "output_type": "execute_result"
    }
   ],
   "source": [
    "np.var(x) #varyans"
   ]
  },
  {
   "cell_type": "code",
   "execution_count": 124,
   "metadata": {},
   "outputs": [
    {
     "data": {
      "text/plain": [
       "1000.0"
      ]
     },
     "execution_count": 124,
     "metadata": {},
     "output_type": "execute_result"
    }
   ],
   "source": [
    "np.max(x)"
   ]
  },
  {
   "cell_type": "code",
   "execution_count": 125,
   "metadata": {},
   "outputs": [
    {
     "data": {
      "text/plain": [
       "0.0"
      ]
     },
     "execution_count": 125,
     "metadata": {},
     "output_type": "execute_result"
    }
   ],
   "source": [
    "np.min(x)"
   ]
  },
  {
   "cell_type": "code",
   "execution_count": 126,
   "metadata": {},
   "outputs": [
    {
     "data": {
      "text/plain": [
       "0"
      ]
     },
     "execution_count": 126,
     "metadata": {},
     "output_type": "execute_result"
    }
   ],
   "source": [
    "x.argmin()"
   ]
  },
  {
   "cell_type": "code",
   "execution_count": 127,
   "metadata": {},
   "outputs": [
    {
     "data": {
      "text/plain": [
       "299"
      ]
     },
     "execution_count": 127,
     "metadata": {},
     "output_type": "execute_result"
    }
   ],
   "source": [
    "x.argmax()"
   ]
  },
  {
   "cell_type": "code",
   "execution_count": 128,
   "metadata": {},
   "outputs": [
    {
     "data": {
      "text/plain": [
       "array([[0, 1, 2, 3, 4, 5, 6, 7, 8],\n",
       "       [0, 1, 2, 3, 4, 5, 6, 7, 8]])"
      ]
     },
     "execution_count": 128,
     "metadata": {},
     "output_type": "execute_result"
    }
   ],
   "source": [
    "x = np.array([np.arange(0,9), np.arange(0,9)])\n",
    "x"
   ]
  },
  {
   "cell_type": "code",
   "execution_count": 129,
   "metadata": {},
   "outputs": [
    {
     "data": {
      "text/plain": [
       "array([ 0,  2,  4,  6,  8, 10, 12, 14, 16])"
      ]
     },
     "execution_count": 129,
     "metadata": {},
     "output_type": "execute_result"
    }
   ],
   "source": [
    "x.sum(axis=0)   # sütunlar üzerinden"
   ]
  },
  {
   "cell_type": "code",
   "execution_count": 130,
   "metadata": {},
   "outputs": [
    {
     "data": {
      "text/plain": [
       "array([36, 36])"
      ]
     },
     "execution_count": 130,
     "metadata": {},
     "output_type": "execute_result"
    }
   ],
   "source": [
    "x.sum(axis=1)   # satırlar üzerinden"
   ]
  },
  {
   "cell_type": "markdown",
   "metadata": {},
   "source": [
    "## 1.2.2: Array Manipülasyonu"
   ]
  },
  {
   "cell_type": "markdown",
   "metadata": {},
   "source": [
    "- Düzleştirme (Flattening)"
   ]
  },
  {
   "cell_type": "code",
   "execution_count": 131,
   "metadata": {},
   "outputs": [
    {
     "data": {
      "text/plain": [
       "array([[1, 2, 3],\n",
       "       [4, 5, 6]])"
      ]
     },
     "execution_count": 131,
     "metadata": {},
     "output_type": "execute_result"
    }
   ],
   "source": [
    "a = np.array([[1, 2, 3], [4, 5, 6]])\n",
    "a"
   ]
  },
  {
   "cell_type": "code",
   "execution_count": 132,
   "metadata": {},
   "outputs": [
    {
     "data": {
      "text/plain": [
       "array([1, 2, 3, 4, 5, 6])"
      ]
     },
     "execution_count": 132,
     "metadata": {},
     "output_type": "execute_result"
    }
   ],
   "source": [
    "a.ravel()"
   ]
  },
  {
   "cell_type": "code",
   "execution_count": 133,
   "metadata": {},
   "outputs": [
    {
     "data": {
      "text/plain": [
       "array([[1, 4],\n",
       "       [2, 5],\n",
       "       [3, 6]])"
      ]
     },
     "execution_count": 133,
     "metadata": {},
     "output_type": "execute_result"
    }
   ],
   "source": [
    "a.T"
   ]
  },
  {
   "cell_type": "code",
   "execution_count": 134,
   "metadata": {},
   "outputs": [
    {
     "data": {
      "text/plain": [
       "array([1, 4, 2, 5, 3, 6])"
      ]
     },
     "execution_count": 134,
     "metadata": {},
     "output_type": "execute_result"
    }
   ],
   "source": [
    "a.T.ravel()"
   ]
  },
  {
   "cell_type": "markdown",
   "metadata": {},
   "source": [
    "- Reshaping"
   ]
  },
  {
   "cell_type": "code",
   "execution_count": 135,
   "metadata": {},
   "outputs": [],
   "source": [
    "a = np.array([[1, 2, 3], [4, 5, 6]])"
   ]
  },
  {
   "cell_type": "code",
   "execution_count": 136,
   "metadata": {},
   "outputs": [
    {
     "name": "stdout",
     "output_type": "stream",
     "text": [
      "Element Sayısı:  6\n",
      "Boyut Sayısı:  2\n",
      "Dizinin Satır ve Sütun yapısı:  (2, 3)\n",
      "Veri Tipi:  int64\n"
     ]
    }
   ],
   "source": [
    "print_info(a)"
   ]
  },
  {
   "cell_type": "code",
   "execution_count": 137,
   "metadata": {},
   "outputs": [
    {
     "data": {
      "text/plain": [
       "array([1, 2, 3, 4, 5, 6])"
      ]
     },
     "execution_count": 137,
     "metadata": {},
     "output_type": "execute_result"
    }
   ],
   "source": [
    "b = a.ravel()\n",
    "b"
   ]
  },
  {
   "cell_type": "code",
   "execution_count": 138,
   "metadata": {},
   "outputs": [
    {
     "data": {
      "text/plain": [
       "array([[1, 2, 3],\n",
       "       [4, 5, 6]])"
      ]
     },
     "execution_count": 138,
     "metadata": {},
     "output_type": "execute_result"
    }
   ],
   "source": [
    "b = b.reshape((2, 3))\n",
    "b"
   ]
  },
  {
   "cell_type": "markdown",
   "metadata": {},
   "source": [
    "- Boyut Ekleme"
   ]
  },
  {
   "cell_type": "code",
   "execution_count": 139,
   "metadata": {},
   "outputs": [
    {
     "data": {
      "text/plain": [
       "array([1, 2, 3])"
      ]
     },
     "execution_count": 139,
     "metadata": {},
     "output_type": "execute_result"
    }
   ],
   "source": [
    "z = np.array([1, 2, 3])\n",
    "z"
   ]
  },
  {
   "cell_type": "code",
   "execution_count": 140,
   "metadata": {},
   "outputs": [
    {
     "data": {
      "text/plain": [
       "array([[1],\n",
       "       [2],\n",
       "       [3]])"
      ]
     },
     "execution_count": 140,
     "metadata": {},
     "output_type": "execute_result"
    }
   ],
   "source": [
    "z[:, np.newaxis]"
   ]
  },
  {
   "cell_type": "code",
   "execution_count": 141,
   "metadata": {},
   "outputs": [
    {
     "data": {
      "text/plain": [
       "(3, 1)"
      ]
     },
     "execution_count": 141,
     "metadata": {},
     "output_type": "execute_result"
    }
   ],
   "source": [
    "z[:, np.newaxis].shape"
   ]
  },
  {
   "cell_type": "code",
   "execution_count": 142,
   "metadata": {},
   "outputs": [
    {
     "data": {
      "text/plain": [
       "array([[1, 2, 3]])"
      ]
     },
     "execution_count": 142,
     "metadata": {},
     "output_type": "execute_result"
    }
   ],
   "source": [
    "z[np.newaxis, :]"
   ]
  },
  {
   "cell_type": "code",
   "execution_count": 143,
   "metadata": {},
   "outputs": [
    {
     "data": {
      "text/plain": [
       "(1, 3)"
      ]
     },
     "execution_count": 143,
     "metadata": {},
     "output_type": "execute_result"
    }
   ],
   "source": [
    "z[np.newaxis, :].shape"
   ]
  },
  {
   "cell_type": "markdown",
   "metadata": {},
   "source": [
    "## 1.3: Matris İşlemleri"
   ]
  },
  {
   "cell_type": "markdown",
   "metadata": {},
   "source": [
    "- 4 İşlem (eleman-eleman)"
   ]
  },
  {
   "cell_type": "code",
   "execution_count": 144,
   "metadata": {},
   "outputs": [
    {
     "data": {
      "text/plain": [
       "array([[1, 2],\n",
       "       [3, 4]])"
      ]
     },
     "execution_count": 144,
     "metadata": {},
     "output_type": "execute_result"
    }
   ],
   "source": [
    "x = np.array([[1,2],[3,4]])\n",
    "y = np.array([[5,6],[7,8]])\n",
    "x"
   ]
  },
  {
   "cell_type": "code",
   "execution_count": 145,
   "metadata": {},
   "outputs": [
    {
     "data": {
      "text/plain": [
       "array([[5, 6],\n",
       "       [7, 8]])"
      ]
     },
     "execution_count": 145,
     "metadata": {},
     "output_type": "execute_result"
    }
   ],
   "source": [
    "y"
   ]
  },
  {
   "cell_type": "markdown",
   "metadata": {},
   "source": [
    "- Eleman-Eleman Toplama"
   ]
  },
  {
   "cell_type": "code",
   "execution_count": 146,
   "metadata": {},
   "outputs": [
    {
     "name": "stdout",
     "output_type": "stream",
     "text": [
      "[[ 6  8]\n",
      " [10 12]]\n",
      "[[ 6  8]\n",
      " [10 12]]\n"
     ]
    }
   ],
   "source": [
    "print(x + y)\n",
    "print(np.add(x, y))"
   ]
  },
  {
   "cell_type": "markdown",
   "metadata": {},
   "source": [
    "- Eleman-Eleman Çıkarma"
   ]
  },
  {
   "cell_type": "code",
   "execution_count": 147,
   "metadata": {},
   "outputs": [
    {
     "name": "stdout",
     "output_type": "stream",
     "text": [
      "[[-4 -4]\n",
      " [-4 -4]]\n",
      "[[-4 -4]\n",
      " [-4 -4]]\n"
     ]
    }
   ],
   "source": [
    "print(x - y)\n",
    "print(np.subtract(x, y))"
   ]
  },
  {
   "cell_type": "markdown",
   "metadata": {},
   "source": [
    "- Eleman-Eleman Çarpma"
   ]
  },
  {
   "cell_type": "code",
   "execution_count": 148,
   "metadata": {},
   "outputs": [
    {
     "name": "stdout",
     "output_type": "stream",
     "text": [
      "[[ 5 12]\n",
      " [21 32]]\n",
      "[[ 5 12]\n",
      " [21 32]]\n"
     ]
    }
   ],
   "source": [
    "print(x * y)\n",
    "print(np.multiply(x, y))"
   ]
  },
  {
   "cell_type": "markdown",
   "metadata": {},
   "source": [
    "- Eleman-Eleman Bölme"
   ]
  },
  {
   "cell_type": "code",
   "execution_count": 149,
   "metadata": {},
   "outputs": [
    {
     "name": "stdout",
     "output_type": "stream",
     "text": [
      "[[0.2        0.33333333]\n",
      " [0.42857143 0.5       ]]\n",
      "[[0.2        0.33333333]\n",
      " [0.42857143 0.5       ]]\n"
     ]
    }
   ],
   "source": [
    "print(x / y)\n",
    "print(np.divide(x, y))"
   ]
  },
  {
   "cell_type": "markdown",
   "metadata": {},
   "source": [
    "**Matris Çarpımlarında ise np.dot() kullanılır.**"
   ]
  },
  {
   "cell_type": "code",
   "execution_count": 150,
   "metadata": {},
   "outputs": [
    {
     "name": "stdout",
     "output_type": "stream",
     "text": [
      "[[38 17]\n",
      " [26 14]]\n"
     ]
    }
   ],
   "source": [
    "a = np.array([[1,7],[2,4]])\n",
    "b = np.array([[3,3],[5,2]])\n",
    "print(np.dot(a,b)) "
   ]
  },
  {
   "cell_type": "markdown",
   "metadata": {},
   "source": [
    "![](figure/matrix.png)"
   ]
  },
  {
   "cell_type": "raw",
   "metadata": {},
   "source": []
  }
 ],
 "metadata": {
  "kernelspec": {
   "display_name": "Python 3",
   "language": "python",
   "name": "python3"
  },
  "language_info": {
   "codemirror_mode": {
    "name": "ipython",
    "version": 3
   },
   "file_extension": ".py",
   "mimetype": "text/x-python",
   "name": "python",
   "nbconvert_exporter": "python",
   "pygments_lexer": "ipython3",
   "version": "3.7.3"
  },
  "toc-autonumbering": false,
  "widgets": {
   "application/vnd.jupyter.widget-state+json": {
    "state": {},
    "version_major": 2,
    "version_minor": 0
   }
  }
 },
 "nbformat": 4,
 "nbformat_minor": 4
}
