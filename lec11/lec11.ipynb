{
 "cells": [
  {
   "cell_type": "markdown",
   "metadata": {},
   "source": [
    "# Derin Öğrenme için Temel Matematik"
   ]
  },
  {
   "cell_type": "code",
   "execution_count": null,
   "metadata": {},
   "outputs": [],
   "source": [
    "%load_ext watermark"
   ]
  },
  {
   "cell_type": "code",
   "execution_count": null,
   "metadata": {},
   "outputs": [],
   "source": []
  },
  {
   "cell_type": "code",
   "execution_count": 1,
   "metadata": {},
   "outputs": [],
   "source": [
    "from IPython.display import Image\n",
    "%matplotlib inline"
   ]
  },
  {
   "cell_type": "markdown",
   "metadata": {},
   "source": [
    "### Skalerler, Vektörler, Matrisler ve Tensörler\n",
    "\n",
    "\n",
    "- **Skalerler:** Skalerler, tek bir sayıdan oluşmaktadır.\n",
    "- **Vektörler:** Bir vektör, bir sayı dizisidir. Bu sayıların her biri belirli bir düzen içerisindedir ve bu sayılara bu düzen içindeki sıralamasından yararlanarak erişebiliriz. \n",
    "    - $\\mathbf{x}$ gibi belirtilen bir vektörün ilk elemanı $\\mathbf{x_1}$, ikinci elemanı $\\mathbf{x_2}$ vb. şekilde tanımlanmaktadır.\n",
    "    - Vektörün sahip olduğu değerlerin ne tür olduğu belirtilmelidir. Eğer vektörün her elemanı $\\mathbb{R}$ kümesinin bir elemanı ise ve bu vektörün n adet elemanı varsa, bu vektör $\\mathbb{R}$ ve n sayısının kartezyen çarpımından ortaya çıkan ve $\\mathbb{R}^{n}$ şeklinde gösterilen kümede yer almaktadır.\n",
    "\n",
    "       $$ \\mathbf{x} = \\begin{bmatrix} x_1 \\\\ x_2 \\\\ .. \\\\ x_n \\end{bmatrix}$$\n",
    "   \n",
    "    - Bazı durumlarda vektörlerin elemanlarından oluşan bir kümeyi indekslememiz gerekebilir. Bu durumda, bu indislerden oluşan bir küme tanımlayıp, bu kümeyi altindiste belirterek bu elemanlara erişebiliriz. Örneğin bir kümedeki $x_1$, $x_3$, ve $x_6$, elemanlarına erişmek için önce bir S = {1,3,6} kümesini tanımlayıp daha sonra  $\\mathbf{x_S}$ yazabiliriz.\n",
    "    -  $\\mathbf{x_{-1}}$ vektörü,  $\\mathbf{x}$ vektörünün  $x_1$ hariç bütün elemanlarını içeren kümeyi temsil eder. $\\mathbf{x_{-S}}$ vektörü ise yine $\\mathbf{x}$ vektörünün $x_1$, $x_3$ ve $x_6$ elemanlarının çıkartılmış halini gösterir.\n"
   ]
  },
  {
   "cell_type": "markdown",
   "metadata": {},
   "source": [
    "- **Matrisler:** Matrisler iki boyutlu sayı dizileridir ve her elemanları bir yerine iki indisle temsil edilir. \n",
    "\n",
    "    - Eğer gerçel değerlerden oluşan bir **A** matrisinin uzunluğu *m* genişliği *n* ise bu matris $\\mathbb{R}^{mxn}$ kümesinin içindedir. Matris gösteriminde indisleri virgülle ayıracağız. Örneğin,  $\\large\\boldsymbol{A_{1,1}}$ soldaki en üst elemanı belirtirken, $\\large\\boldsymbol{A_{m,n}}$ ise en altta sağdaki elemanı belirtmektedir.\n",
    "\n",
    "    $$ \\large\\boldsymbol{A} = \\begin{bmatrix} A_{1,1} & A_{1,2} \\\\ A_{2,1} & A_{2,2} \\end{bmatrix}$$\n",
    "\n",
    "    - $\\large\\boldsymbol{A_{i,:}}$,  $\\large\\boldsymbol{A}$ matrisinin düşey koordinatlarının i olduğu yatay bir kesinti ifade eder. $\\large\\boldsymbol{A}$ matrisinin i'inci satırı.\n",
    "    - $\\large\\boldsymbol{A_{:,i}}$ ise $\\large\\boldsymbol{A}$ matrisinin i'inci sütununu belirtir."
   ]
  },
  {
   "cell_type": "markdown",
   "metadata": {},
   "source": [
    "- **Tensörler:** Bazı durumlarda ikiden fazla ekseni olan dizilere ihtiyaç duyabiliriz. En genel tanımında, düzenli bir ızgara üzerine yerleştirilmiş ve değişken sayıda ekseni bulunan diziler tensör olarak adlandırılır.\n",
    "\n",
    "- $\\mathbf{A}$ tensörünün (i, j, k) koordinatlarındaki bir elemanını $A_{i,j,k}$ ifadesiyle göstereceğiz."
   ]
  },
  {
   "cell_type": "markdown",
   "metadata": {},
   "source": [
    "- **Transpoz:** Bir matrisin transpozu, o matrisin **ana köşegen** çizgisi etrafında aynalanmış halidir. Ana köşegen matrisin üst sol köşesinden sağ alt köşesine uzanır. Transpoz operasyonunun bir gösterimi için şekil-1'e bakınız.\n",
    "- $\\large\\boldsymbol{A}$ matrisinin transpozunu $\\large\\boldsymbol{A^T}$ ifadesini kullanarak gösteriyoruz. Bu operasyon,\n",
    "\n",
    "$$ (A^T)_{i,j} = A_{j,i} $$ ifadesiyle tanımlıdır.\n",
    "\n",
    "- Vektörler tek bir sütun içeren matrisler olarak düşünülebilir. Dolayısıyla bir vektörün transpozu tek bir satır içeren bir matristir. \n",
    "\n",
    "$$ \\large\\boldsymbol{A} = \\begin{bmatrix} A_{1,1} & A_{1,2} \\\\ A_{2,1} & A_{2,2} \\\\ A_{3,1} & A_{3,2} \\end{bmatrix} $$\n",
    "\n",
    "$$ A^T = \\begin{bmatrix} A_{1,1} & A_{2,1} & A_{3,1} \\\\ A_{1,2} & A_{2,2} & A_{3,2} \\end{bmatrix} $$\n",
    "\n",
    "- Bir vektör satır içinde bir satır matrisi olarak yazıp daha sonra transpoz operatörüyle standart bir sütun vektörü olarak kullanmaktayız. Örneğin, \n",
    "$$ \\mathbf{x} = [\\mathbf{x_1}, \\mathbf{x_2}, \\mathbf{x_3}]^T $$"
   ]
  },
  {
   "cell_type": "markdown",
   "metadata": {},
   "source": [
    "- Skaler, tek boyutlu matris olarak ele alınabilir. Bu durumda skaler'in transpozu yine kendisine eşittir.\n",
    "$$ a = a^T$$"
   ]
  },
  {
   "cell_type": "markdown",
   "metadata": {},
   "source": [
    "- İki matris birbiriyle toplanabilir. Bunu karşılıklı elemanlarını toplayarak yaparız: \n",
    "$$ \\normalsize\\boldsymbol{C} =  \\normalsize\\boldsymbol{A} + \\normalsize\\boldsymbol{B} -->  \\normalsize\\boldsymbol{C_{i,j}} =  \\normalsize\\boldsymbol{A_{i,j}} + \\normalsize\\boldsymbol{B_{i,j}}$$"
   ]
  },
  {
   "cell_type": "markdown",
   "metadata": {},
   "source": [
    "- Bir matrise skaler eklenebilir ya da bir matrisi skalerle çarpabiliriz.\n",
    "$$ \\normalsize\\boldsymbol{D} =  a \\normalsize\\boldsymbol{B} + \\normalsize\\boldsymbol{c} $$"
   ]
  },
  {
   "cell_type": "markdown",
   "metadata": {},
   "source": [
    "**Ek:**\n",
    "- Tüm makine öğrenmesi sistemleri temel veri yapısı olarak genellikle tensörleri kullanırlar. Tensör?\n",
    "- Temel olarak tensörler veriler için taşıyıcı vazifesini görür ve genellikle sayısal veriler tutar. O zaman sayılar için taşıyıcı diyebiliriz. Matrislere (2 boyutlu tensörler) aşina olabilirsiniz: O zaman tensörler matrislerin herhangi bir boyuta genelleştirilmesidir.\n",
    "- Skalerler (0B Tensörler): Bir eleman taşıyan tensörler skaler (skaler tensör, 0B tensör veya 0 boyutlu tensör) denir.\n",
    "- Numpy kütüphanesinde mevcut olan float32 ve float64 sayılar birer skaler tensörüdür. Numpy kullanarak bir tensörün kaç ekseni olduğunu öğrenmek için dim niteliğini kullanarak belirlenebilir.\n",
    "- Skaler sıfır eksene sahiptir. Bir tensörün eksen sayısı aynı zamanda tensörün derecesi olarak adlandırılmaktadır."
   ]
  },
  {
   "cell_type": "code",
   "execution_count": 1,
   "metadata": {},
   "outputs": [
    {
     "data": {
      "text/plain": [
       "array(8)"
      ]
     },
     "execution_count": 1,
     "metadata": {},
     "output_type": "execute_result"
    }
   ],
   "source": [
    "import numpy as np\n",
    "sca = np.array(8)\n",
    "sca"
   ]
  },
  {
   "cell_type": "code",
   "execution_count": 2,
   "metadata": {},
   "outputs": [
    {
     "data": {
      "text/plain": [
       "0"
      ]
     },
     "execution_count": 2,
     "metadata": {},
     "output_type": "execute_result"
    }
   ],
   "source": [
    "sca.ndim"
   ]
  },
  {
   "cell_type": "markdown",
   "metadata": {},
   "source": [
    "- **Vektörler (1B Tensörler):** Sayı dizilerine vektör ya da 1B tensör denir. 1B bir tensör sadece bir eksene sahiptir."
   ]
  },
  {
   "cell_type": "code",
   "execution_count": 3,
   "metadata": {},
   "outputs": [
    {
     "data": {
      "text/plain": [
       "array([1, 2, 3, 4, 5, 6])"
      ]
     },
     "execution_count": 3,
     "metadata": {},
     "output_type": "execute_result"
    }
   ],
   "source": [
    "vec = np.array([1, 2, 3, 4, 5, 6])\n",
    "vec"
   ]
  },
  {
   "cell_type": "code",
   "execution_count": 4,
   "metadata": {},
   "outputs": [
    {
     "data": {
      "text/plain": [
       "1"
      ]
     },
     "execution_count": 4,
     "metadata": {},
     "output_type": "execute_result"
    }
   ],
   "source": [
    "vec.ndim"
   ]
  },
  {
   "cell_type": "markdown",
   "metadata": {},
   "source": [
    "- x vektörü 6 elemana sahiptir. Dolayısıyla bu vektör 6 boyutludur denebilir. Fakat tensör boyutu ile vektör boyutları karıştırılmamalıdır. Vektörler 1B tensörle olmakla beraber sahip oldukları eleman sayısı kadar da ilgili vektörün boyutu vardır. Yukarıda örnek olduğu gibi x vektörü 1B tensördür. Aynı zamanda x vektörü 6 boyutludur (6B)."
   ]
  },
  {
   "cell_type": "markdown",
   "metadata": {},
   "source": [
    "- **Matrisler (2B Tensörler):** Bir vektör dizisi matris veya 2B tensördür. Bir matrisin iki ekseni vardır (satır ve sütun)."
   ]
  },
  {
   "cell_type": "code",
   "execution_count": 5,
   "metadata": {},
   "outputs": [
    {
     "data": {
      "text/plain": [
       "array([[ 1,  2,  3,  4,  5],\n",
       "       [ 6,  7,  8,  9, 10],\n",
       "       [11, 12, 13, 14, 15]])"
      ]
     },
     "execution_count": 5,
     "metadata": {},
     "output_type": "execute_result"
    }
   ],
   "source": [
    "mat = np.array([[1,2,3,4,5],\n",
    "             [6,7,8,9,10],\n",
    "             [11,12,13,14,15]])\n",
    "mat"
   ]
  },
  {
   "cell_type": "code",
   "execution_count": 6,
   "metadata": {},
   "outputs": [
    {
     "data": {
      "text/plain": [
       "2"
      ]
     },
     "execution_count": 6,
     "metadata": {},
     "output_type": "execute_result"
    }
   ],
   "source": [
    "mat.ndim"
   ]
  },
  {
   "cell_type": "markdown",
   "metadata": {},
   "source": [
    "* **3B ve Daha Fazla Boyutlu Tensörler:**\n",
    "    - Matrisleri bir dizide birleştirip 3B ve daha fazla boyutlu tensörler elde edilebilir."
   ]
  },
  {
   "cell_type": "code",
   "execution_count": 7,
   "metadata": {},
   "outputs": [
    {
     "data": {
      "text/plain": [
       "array([[[ 1,  2,  3,  4,  5],\n",
       "        [ 6,  7,  8,  9, 10],\n",
       "        [11, 12, 13, 14, 15]],\n",
       "\n",
       "       [[ 5,  4,  3,  2,  1],\n",
       "        [ 3,  4,  5,  6,  7],\n",
       "        [10,  1,  2,  5,  9]],\n",
       "\n",
       "       [[20, 24, 53, 20,  1],\n",
       "        [ 3, 30, 90, 21, 14],\n",
       "        [ 8,  5,  3, 20, 50]]])"
      ]
     },
     "execution_count": 7,
     "metadata": {},
     "output_type": "execute_result"
    }
   ],
   "source": [
    "tens = np.array([[[1,2,3,4,5],\n",
    "              [6,7,8,9,10],\n",
    "              [11,12,13,14,15]],\n",
    "             [[5,4,3,2,1],\n",
    "             [3,4,5,6,7],\n",
    "             [10,1,2,5,9]],\n",
    "             [[20,24,53,20,1],\n",
    "             [3,30,90,21,14],\n",
    "             [8,5,3,20,50]]])\n",
    "tens"
   ]
  },
  {
   "cell_type": "code",
   "execution_count": 8,
   "metadata": {},
   "outputs": [
    {
     "data": {
      "text/plain": [
       "3"
      ]
     },
     "execution_count": 8,
     "metadata": {},
     "output_type": "execute_result"
    }
   ],
   "source": [
    "tens.ndim"
   ]
  },
  {
   "cell_type": "markdown",
   "metadata": {},
   "source": [
    "* Tensörlerin 3 temel özelliği\n",
    "    - **Eksen sayısı (derecesi):** 3B tensörlerin ük ekseni mevcutken matrislerin iki ekseni vardır.\n",
    "    - **Şekli:** Her eksende kaç boyut olduğunu belirten sayılardır. Örneğin yukarıdaki matrisin şekli (3,5), 3B tensör örneğimizin ise (3,3,5)'dir. Vektörün şekli ise (6,) dır.\n",
    "    - **Veri tipi:** Tensörün taşıdığı verinin tipini söyler. Örneğin, float23, float64, int16"
   ]
  },
  {
   "cell_type": "code",
   "execution_count": 9,
   "metadata": {},
   "outputs": [
    {
     "data": {
      "text/plain": [
       "((), (6,), (3, 5), (3, 3, 5))"
      ]
     },
     "execution_count": 9,
     "metadata": {},
     "output_type": "execute_result"
    }
   ],
   "source": [
    "sca.shape, vec.shape, mat.shape, tens.shape"
   ]
  },
  {
   "cell_type": "code",
   "execution_count": 10,
   "metadata": {},
   "outputs": [
    {
     "data": {
      "text/plain": [
       "(dtype('int64'), dtype('int64'), dtype('int64'), dtype('int64'))"
      ]
     },
     "execution_count": 10,
     "metadata": {},
     "output_type": "execute_result"
    }
   ],
   "source": [
    "sca.dtype, vec.dtype, mat.dtype, tens.dtype"
   ]
  },
  {
   "cell_type": "code",
   "execution_count": 11,
   "metadata": {},
   "outputs": [],
   "source": [
    "from keras.datasets import mnist\n",
    "(train_images, train_labels), (test_images, test_labels) = mnist.load_data()"
   ]
  },
  {
   "cell_type": "code",
   "execution_count": 12,
   "metadata": {},
   "outputs": [
    {
     "data": {
      "text/plain": [
       "array([[[0, 0, 0, ..., 0, 0, 0],\n",
       "        [0, 0, 0, ..., 0, 0, 0],\n",
       "        [0, 0, 0, ..., 0, 0, 0],\n",
       "        ...,\n",
       "        [0, 0, 0, ..., 0, 0, 0],\n",
       "        [0, 0, 0, ..., 0, 0, 0],\n",
       "        [0, 0, 0, ..., 0, 0, 0]],\n",
       "\n",
       "       [[0, 0, 0, ..., 0, 0, 0],\n",
       "        [0, 0, 0, ..., 0, 0, 0],\n",
       "        [0, 0, 0, ..., 0, 0, 0],\n",
       "        ...,\n",
       "        [0, 0, 0, ..., 0, 0, 0],\n",
       "        [0, 0, 0, ..., 0, 0, 0],\n",
       "        [0, 0, 0, ..., 0, 0, 0]],\n",
       "\n",
       "       [[0, 0, 0, ..., 0, 0, 0],\n",
       "        [0, 0, 0, ..., 0, 0, 0],\n",
       "        [0, 0, 0, ..., 0, 0, 0],\n",
       "        ...,\n",
       "        [0, 0, 0, ..., 0, 0, 0],\n",
       "        [0, 0, 0, ..., 0, 0, 0],\n",
       "        [0, 0, 0, ..., 0, 0, 0]],\n",
       "\n",
       "       ...,\n",
       "\n",
       "       [[0, 0, 0, ..., 0, 0, 0],\n",
       "        [0, 0, 0, ..., 0, 0, 0],\n",
       "        [0, 0, 0, ..., 0, 0, 0],\n",
       "        ...,\n",
       "        [0, 0, 0, ..., 0, 0, 0],\n",
       "        [0, 0, 0, ..., 0, 0, 0],\n",
       "        [0, 0, 0, ..., 0, 0, 0]],\n",
       "\n",
       "       [[0, 0, 0, ..., 0, 0, 0],\n",
       "        [0, 0, 0, ..., 0, 0, 0],\n",
       "        [0, 0, 0, ..., 0, 0, 0],\n",
       "        ...,\n",
       "        [0, 0, 0, ..., 0, 0, 0],\n",
       "        [0, 0, 0, ..., 0, 0, 0],\n",
       "        [0, 0, 0, ..., 0, 0, 0]],\n",
       "\n",
       "       [[0, 0, 0, ..., 0, 0, 0],\n",
       "        [0, 0, 0, ..., 0, 0, 0],\n",
       "        [0, 0, 0, ..., 0, 0, 0],\n",
       "        ...,\n",
       "        [0, 0, 0, ..., 0, 0, 0],\n",
       "        [0, 0, 0, ..., 0, 0, 0],\n",
       "        [0, 0, 0, ..., 0, 0, 0]]], dtype=uint8)"
      ]
     },
     "execution_count": 12,
     "metadata": {},
     "output_type": "execute_result"
    }
   ],
   "source": [
    "train_images"
   ]
  },
  {
   "cell_type": "code",
   "execution_count": 13,
   "metadata": {},
   "outputs": [
    {
     "name": "stdout",
     "output_type": "stream",
     "text": [
      "3\n"
     ]
    }
   ],
   "source": [
    "print(train_images.ndim)"
   ]
  },
  {
   "cell_type": "code",
   "execution_count": 14,
   "metadata": {},
   "outputs": [
    {
     "name": "stdout",
     "output_type": "stream",
     "text": [
      "(60000, 28, 28)\n"
     ]
    }
   ],
   "source": [
    "print(train_images.shape)"
   ]
  },
  {
   "cell_type": "code",
   "execution_count": 15,
   "metadata": {},
   "outputs": [
    {
     "name": "stdout",
     "output_type": "stream",
     "text": [
      "(10000, 28, 28)\n"
     ]
    }
   ],
   "source": [
    "print(test_images.shape)"
   ]
  },
  {
   "cell_type": "markdown",
   "metadata": {},
   "source": [
    "- 3B tensörümüz\n",
    "- 28x28 boyutundaki matrislerden 60000 adet bulunduran bir dizimiz var.\n",
    "- Her matris 0 ile 255 arasında değer alıyor ve gri ölçeğinde bir görüntüye sahibiz."
   ]
  },
  {
   "cell_type": "code",
   "execution_count": 16,
   "metadata": {},
   "outputs": [
    {
     "name": "stdout",
     "output_type": "stream",
     "text": [
      "uint8\n"
     ]
    }
   ],
   "source": [
    "print(train_images.dtype)"
   ]
  },
  {
   "cell_type": "markdown",
   "metadata": {},
   "source": [
    "- 8 bitlik görüntüler"
   ]
  },
  {
   "cell_type": "code",
   "execution_count": 17,
   "metadata": {},
   "outputs": [
    {
     "data": {
      "text/plain": [
       "<Figure size 640x480 with 1 Axes>"
      ]
     },
     "metadata": {},
     "output_type": "display_data"
    }
   ],
   "source": [
    "import matplotlib.pyplot as plt\n",
    "\n",
    "digit = train_images[2]\n",
    "\n",
    "plt.imshow(digit, cmap=plt.cm.binary)\n",
    "plt.show()"
   ]
  },
  {
   "cell_type": "markdown",
   "metadata": {},
   "source": [
    "* **Kullanılan Tensör Verileri:**\n",
    "    - **Vektör Verisi:** 2B tensörler (Vektör Dizisi) (örnekler, öznitelikler)\n",
    "    - **Zaman serisi ya da ardışık veri:** 3B tensörler (örnekler, zaman_adımı, öznitelikler)\n",
    "    - **Görüntüler:** 4B tensörler (Örnekler, yükseklik, genişlik, kanallar) ya da (örnekler, kanallar, yükseklik, genişlik)\n",
    "    - **Video:** 5B tensörler (örnekler, kareler, yükseklik, genişlik, kanallar) ya da (örnekler, kareler, kanallar, yükseklik, genişlik)"
   ]
  },
  {
   "cell_type": "markdown",
   "metadata": {},
   "source": [
    "### Matris ve Vektörleri Çarpmak"
   ]
  },
  {
   "cell_type": "markdown",
   "metadata": {},
   "source": [
    "**Matris Çarpımı:**\n",
    "    - A ve B matrisini ele alalım. \n",
    "$$ \\normalsize\\boldsymbol{C} =  \\normalsize\\boldsymbol{A} \\normalsize\\boldsymbol{B} $$\n",
    "\n",
    "- Çarpım işleminin gerçekleşmesi için $\\normalsize\\boldsymbol{A}$ sütun sayısıyla $\\normalsize\\boldsymbol{B}$ matrisinin satır sayısı eşit olmalıdır.\n",
    "- $\\normalsize\\boldsymbol{A}$ matrisinin şekli mxn ve $\\normalsize\\boldsymbol{B}$ matrisinin şekli nxp ise $\\normalsize\\boldsymbol{C}$ matrisinin şekli mxp kadardır\n",
    "- Çarpım işlemi,\n",
    "$$ \\large\\boldsymbol{C_{i,j}} = \\sum_k \\large\\boldsymbol{A_{i,k}} \\large\\boldsymbol{B_{k,j}} $$\n",
    "ifadesiyle tanımlanmıştır."
   ]
  },
  {
   "cell_type": "code",
   "execution_count": 18,
   "metadata": {},
   "outputs": [
    {
     "name": "stdout",
     "output_type": "stream",
     "text": [
      "[[0 1 2]\n",
      " [3 4 5]]\n",
      "Matris-1 shape:  (2, 3)\n",
      "\n",
      "\n",
      "[[0 1]\n",
      " [2 3]\n",
      " [4 5]]\n",
      "Matris-2 shape:  (3, 2)\n"
     ]
    }
   ],
   "source": [
    "import numpy as np\n",
    " \n",
    "\n",
    "matx1 = np.array([np.arange(0,3), np.arange(3,6)])\n",
    "matx2 = np.array([np.arange(0,2), np.arange(2,4), np.arange(4,6)])\n",
    " \n",
    "print(matx1)\n",
    "print(\"Matris-1 shape: \", matx1.shape)\n",
    "print(\"\\n\")\n",
    "print(matx2)\n",
    "print(\"Matris-2 shape: \", matx2.shape)\n",
    " "
   ]
  },
  {
   "cell_type": "markdown",
   "metadata": {},
   "source": [
    "- **Skaler Çarpım:** Skaler bir değerin, matrisin bütün elemanlarıyla çarpımı.\n",
    "- **Dot Product - İç Çarpım:** İki matrisin, matris kurallarına göre çarpımı"
   ]
  },
  {
   "cell_type": "code",
   "execution_count": 19,
   "metadata": {},
   "outputs": [
    {
     "name": "stdout",
     "output_type": "stream",
     "text": [
      "Scalar Product:\n",
      "[[ 0  2  4]\n",
      " [ 6  8 10]]\n",
      "\n",
      "\n",
      "Dot Product:\n",
      "[[10 13]\n",
      " [28 40]]\n"
     ]
    }
   ],
   "source": [
    "print(\"Scalar Product:\")\n",
    "print(matx1 * 2)\n",
    "print(\"\\n\")\n",
    "print(\"Dot Product:\")\n",
    "print(np.dot(matx1, matx2))"
   ]
  },
  {
   "cell_type": "markdown",
   "metadata": {},
   "source": [
    "**Önemli:** matris çarpımı yalnızca matris elemanlarının birebir çapımına eşit değildir."
   ]
  },
  {
   "cell_type": "markdown",
   "metadata": {},
   "source": [
    "- İki eşit boyutlu vektör $\\mathbf{x}$ ve $\\mathbf{y}$ arasındaki iç çarpım, $\\mathbf{x^T y}$ ifadesiyle belirtilen matris çarpımına eşittir.\n",
    "- $\\normalsize\\boldsymbol{C = AB}$ şeklindeki matris çarpımını, $\\large\\boldsymbol{C_{i,j}}$ ifadesini $\\normalsize\\boldsymbol{A}$ matrisinin i'inci satırının ve B matrisinin j'inci sütununun iç çarpımı olarak hesaplayarak gösterebiliriz."
   ]
  },
  {
   "cell_type": "markdown",
   "metadata": {},
   "source": [
    "Matris çarpımı,\n",
    "- Dağılma özelliğine sahiptir.\n",
    "$$ \\normalsize\\boldsymbol{A}\\normalsize\\boldsymbol{(B+C \\ )} = \\normalsize\\boldsymbol{AB+AC} $$\n",
    "- Birleşme özelliğine sahiptir.\n",
    "$$\\normalsize\\boldsymbol{A(BC \\ ) = (AB \\ )C}$$\n",
    "- Değişme özelliğine sahip değildir.\n",
    "- Bir matrisin transpozu basit olarak  $(AB)^T = B^T A^T$  şeklinde ifade edilir."
   ]
  },
  {
   "cell_type": "code",
   "execution_count": 20,
   "metadata": {},
   "outputs": [
    {
     "name": "stdout",
     "output_type": "stream",
     "text": [
      "1. Matris\n",
      "[[0 1 2]\n",
      " [3 4 5]]\n",
      "\n",
      "\n",
      "1. Matris için Traspoz işlemi:\n",
      "[[0 3]\n",
      " [1 4]\n",
      " [2 5]]\n",
      "\n",
      "\n",
      "------------------------------\n",
      "\n",
      "\n",
      "2. Matris\n",
      "[[0 1]\n",
      " [2 3]\n",
      " [4 5]]\n",
      "\n",
      "\n",
      "2. Matris için Traspoz işlemi:\n",
      "[[0 2 4]\n",
      " [1 3 5]]\n"
     ]
    }
   ],
   "source": [
    "# Transpoz işlemi\n",
    "\n",
    "print(\"1. Matris\")\n",
    "print(matx1)\n",
    "print(\"\\n\")\n",
    "print(\"1. Matris için Traspoz işlemi:\")\n",
    "print(matx1.T)\n",
    "print(\"\\n\")\n",
    "print(\"------------------------------\")\n",
    "print(\"\\n\")\n",
    "print(\"2. Matris\")\n",
    "print(matx2)\n",
    "print(\"\\n\")\n",
    "print(\"2. Matris için Traspoz işlemi:\")\n",
    "print(matx2.T)\n",
    " "
   ]
  },
  {
   "cell_type": "markdown",
   "metadata": {},
   "source": [
    "$(AB)^T = B^T A^T$"
   ]
  },
  {
   "cell_type": "code",
   "execution_count": 21,
   "metadata": {},
   "outputs": [
    {
     "data": {
      "text/latex": [
       "$\\displaystyle (AB)^T :$"
      ],
      "text/plain": [
       "<IPython.core.display.Math object>"
      ]
     },
     "metadata": {},
     "output_type": "display_data"
    },
    {
     "name": "stdout",
     "output_type": "stream",
     "text": [
      "[[10 28]\n",
      " [13 40]]\n"
     ]
    }
   ],
   "source": [
    "from IPython.display import display, Math\n",
    "display(Math(r'(AB)^T :'))\n",
    "\n",
    "print(np.dot(matx1, matx2).T) "
   ]
  },
  {
   "cell_type": "code",
   "execution_count": 22,
   "metadata": {},
   "outputs": [
    {
     "data": {
      "text/latex": [
       "$\\displaystyle B^T A^T :$"
      ],
      "text/plain": [
       "<IPython.core.display.Math object>"
      ]
     },
     "metadata": {},
     "output_type": "display_data"
    },
    {
     "name": "stdout",
     "output_type": "stream",
     "text": [
      "[[10 28]\n",
      " [13 40]]\n"
     ]
    }
   ],
   "source": [
    "display(Math(r'B^T A^T :'))\n",
    "\n",
    "print(np.dot(matx2.T,matx1.T))"
   ]
  },
  {
   "cell_type": "markdown",
   "metadata": {},
   "source": [
    "- Matris çarpımı, skaler çarpımın aksine değişme özelliğine sahip değildir.\n",
    "- Yani, $(AB \\neq BA)$"
   ]
  },
  {
   "cell_type": "code",
   "execution_count": 23,
   "metadata": {},
   "outputs": [
    {
     "data": {
      "text/plain": [
       "array([[10, 13],\n",
       "       [28, 40]])"
      ]
     },
     "execution_count": 23,
     "metadata": {},
     "output_type": "execute_result"
    }
   ],
   "source": [
    "np.dot(matx1,matx2)"
   ]
  },
  {
   "cell_type": "code",
   "execution_count": 24,
   "metadata": {},
   "outputs": [
    {
     "data": {
      "text/plain": [
       "array([[ 3,  4,  5],\n",
       "       [ 9, 14, 19],\n",
       "       [15, 24, 33]])"
      ]
     },
     "execution_count": 24,
     "metadata": {},
     "output_type": "execute_result"
    }
   ],
   "source": [
    "np.dot(matx2,matx1)"
   ]
  },
  {
   "cell_type": "markdown",
   "metadata": {},
   "source": [
    "- Vektörler arasındaki iç çarpım değişme özelliğine sahiptir:\n",
    "    - $\\mathbf{x^T y = y^T x}$"
   ]
  },
  {
   "cell_type": "code",
   "execution_count": 25,
   "metadata": {},
   "outputs": [],
   "source": [
    "vec1 = np.array([1, 2, 3, 4, 5])\n",
    "vec2 = np.array([7, 8, 9, 10, 11])"
   ]
  },
  {
   "cell_type": "code",
   "execution_count": 26,
   "metadata": {},
   "outputs": [
    {
     "data": {
      "text/plain": [
       "145"
      ]
     },
     "execution_count": 26,
     "metadata": {},
     "output_type": "execute_result"
    }
   ],
   "source": [
    "np.dot(vec1.T,vec2)"
   ]
  },
  {
   "cell_type": "code",
   "execution_count": 27,
   "metadata": {},
   "outputs": [
    {
     "data": {
      "text/plain": [
       "145"
      ]
     },
     "execution_count": 27,
     "metadata": {},
     "output_type": "execute_result"
    }
   ],
   "source": [
    "np.dot(vec2.T,vec1)"
   ]
  },
  {
   "cell_type": "markdown",
   "metadata": {},
   "source": [
    "- Yukarıdaki işlemin sonucu skaler olduğu için transpozuda kendisine eşittir."
   ]
  },
  {
   "cell_type": "code",
   "execution_count": 28,
   "metadata": {},
   "outputs": [
    {
     "data": {
      "text/plain": [
       "145"
      ]
     },
     "execution_count": 28,
     "metadata": {},
     "output_type": "execute_result"
    }
   ],
   "source": [
    "np.dot(vec1.T,vec2).T"
   ]
  },
  {
   "cell_type": "markdown",
   "metadata": {},
   "source": [
    "#### Birim ve Ters Matrisler"
   ]
  },
  {
   "cell_type": "markdown",
   "metadata": {},
   "source": [
    "- Birim matrisler, bir vektör ile çarpıldıklarında o vektör üzerinde hiçbir değişiklik yapmayan matrislerdir. n boyutlu vektörler üzerinde işlem yapan birim matrisleri $\\mathbf{I_n}$ şeklinde belirtiyoruz. biçimsel olarak bunu, \n",
    "$\\mathbf{I_n} \\in \\mathbb{R^{nxn}}$ ve\n",
    "\n",
    "$$\\mathbf{\\forall{x}} \\in \\mathbb{R^n}, \\mathbf{I_n x = x}$$ \n",
    "şeklinde belirtiyoruz.\n",
    "\n",
    "- Birim matrislerin, ana köşegen üzerindeki bütün elemanları 1, geriye kalan bütün elemanların değeri ise 0'dır."
   ]
  },
  {
   "cell_type": "markdown",
   "metadata": {},
   "source": [
    "- A matrisinin tersi, $A^{-1}$ şeklinde gösterilir ve\n",
    "$$ A^{-1} A = I_n$$\n",
    "\n",
    "şeklinde tanımlıdır."
   ]
  },
  {
   "cell_type": "markdown",
   "metadata": {},
   "source": [
    "$$ I_3 = \\begin{bmatrix} 1 & 0 & 0 \\\\ 0 & 1 & 0 \\\\ 0 & 0 & 1\\end{bmatrix} $$"
   ]
  },
  {
   "cell_type": "markdown",
   "metadata": {},
   "source": [
    "#### Bir matrisin tersini almak:\n",
    "\n",
    "$$ A = \\begin{bmatrix} a & b  \\\\ c & d\\end{bmatrix} $$\n",
    "\n",
    "$$ A^{-1} = \\frac{1}{ad-bc} \\begin{bmatrix} d & -b  \\\\ -c & a\\end{bmatrix} $$\n",
    "\n",
    "$$ A = \\begin{bmatrix} 6 & 1  \\\\ 4 & -2\\end{bmatrix} $$\n",
    "\n",
    "$$ A^{-1} = \\frac{1}{(-16)} \\begin{bmatrix} -2 & -1  \\\\ -4 & 6\\end{bmatrix} $$\n",
    "\n",
    "$$ A^{-1} = \\begin{bmatrix} 0.125 & 0.0625  \\\\ 0.25 & -0.375\\end{bmatrix} $$"
   ]
  },
  {
   "cell_type": "markdown",
   "metadata": {},
   "source": [
    "#### Ters Matris"
   ]
  },
  {
   "cell_type": "code",
   "execution_count": 29,
   "metadata": {},
   "outputs": [
    {
     "data": {
      "text/plain": [
       "array([[ 6,  1],\n",
       "       [ 4, -2]])"
      ]
     },
     "execution_count": 29,
     "metadata": {},
     "output_type": "execute_result"
    }
   ],
   "source": [
    "matx3 = np.array([[6, 1], [4, -2]]) #kare matris olmalı\n",
    "matx3"
   ]
  },
  {
   "cell_type": "code",
   "execution_count": 30,
   "metadata": {},
   "outputs": [
    {
     "name": "stdout",
     "output_type": "stream",
     "text": [
      "[[ 0.125   0.0625]\n",
      " [ 0.25   -0.375 ]]\n"
     ]
    }
   ],
   "source": [
    "ters = np.linalg.inv(matx3) \n",
    "print(ters)"
   ]
  },
  {
   "cell_type": "markdown",
   "metadata": {},
   "source": [
    "$A^{-1} A = I_n$"
   ]
  },
  {
   "cell_type": "code",
   "execution_count": 31,
   "metadata": {},
   "outputs": [
    {
     "name": "stdout",
     "output_type": "stream",
     "text": [
      "[[1. 0.]\n",
      " [0. 1.]]\n"
     ]
    }
   ],
   "source": [
    "#birim = np.dot(matx3, ters)\n",
    "birim = matx3.dot(ters)\n",
    "print(birim)"
   ]
  },
  {
   "cell_type": "markdown",
   "metadata": {},
   "source": [
    "#### Numpy ile Birim Matris"
   ]
  },
  {
   "cell_type": "code",
   "execution_count": 32,
   "metadata": {},
   "outputs": [
    {
     "data": {
      "text/plain": [
       "array([[1, 0, 0],\n",
       "       [0, 1, 0],\n",
       "       [0, 0, 1]])"
      ]
     },
     "execution_count": 32,
     "metadata": {},
     "output_type": "execute_result"
    }
   ],
   "source": [
    "np.identity(3, dtype=int)"
   ]
  },
  {
   "cell_type": "markdown",
   "metadata": {},
   "source": [
    "### Ters Matrisin Özellikleri"
   ]
  },
  {
   "cell_type": "markdown",
   "metadata": {},
   "source": [
    "$({A^{-1}})^{-1} = A$"
   ]
  },
  {
   "cell_type": "code",
   "execution_count": 33,
   "metadata": {},
   "outputs": [
    {
     "name": "stdout",
     "output_type": "stream",
     "text": [
      "[[ 0.125   0.0625]\n",
      " [ 0.25   -0.375 ]]\n"
     ]
    }
   ],
   "source": [
    "ters = np.linalg.inv(matx3) \n",
    "print(ters)"
   ]
  },
  {
   "cell_type": "code",
   "execution_count": 34,
   "metadata": {},
   "outputs": [
    {
     "name": "stdout",
     "output_type": "stream",
     "text": [
      "[[ 6.  1.]\n",
      " [ 4. -2.]]\n"
     ]
    }
   ],
   "source": [
    "ters2 = np.linalg.inv(ters) \n",
    "print(ters2)"
   ]
  },
  {
   "cell_type": "markdown",
   "metadata": {},
   "source": [
    "$({A^{T}})^{-1} = ({A^{-1}})^{T}$"
   ]
  },
  {
   "cell_type": "code",
   "execution_count": 35,
   "metadata": {},
   "outputs": [
    {
     "data": {
      "text/plain": [
       "array([[ 0.125 ,  0.25  ],\n",
       "       [ 0.0625, -0.375 ]])"
      ]
     },
     "execution_count": 35,
     "metadata": {},
     "output_type": "execute_result"
    }
   ],
   "source": [
    "np.linalg.inv(matx3.T)"
   ]
  },
  {
   "cell_type": "code",
   "execution_count": 36,
   "metadata": {},
   "outputs": [
    {
     "data": {
      "text/plain": [
       "array([[ 0.125 ,  0.25  ],\n",
       "       [ 0.0625, -0.375 ]])"
      ]
     },
     "execution_count": 36,
     "metadata": {},
     "output_type": "execute_result"
    }
   ],
   "source": [
    "np.linalg.inv(matx3).T"
   ]
  },
  {
   "cell_type": "markdown",
   "metadata": {},
   "source": [
    "**Kaynaklar:**\n",
    "- Bu ders içeriği yararlanılan kaynaklar:\n",
    "    - Derin Öğrenme (Buzdağı Yayınevi)\n",
    "    - Python ile Derin Öğrenme (Buzdağı Yayınevi)"
   ]
  },
  {
   "cell_type": "code",
   "execution_count": null,
   "metadata": {},
   "outputs": [],
   "source": []
  }
 ],
 "metadata": {
  "kernelspec": {
   "display_name": "Python 3",
   "language": "python",
   "name": "python3"
  },
  "language_info": {
   "codemirror_mode": {
    "name": "ipython",
    "version": 3
   },
   "file_extension": ".py",
   "mimetype": "text/x-python",
   "name": "python",
   "nbconvert_exporter": "python",
   "pygments_lexer": "ipython3",
   "version": "3.7.3"
  }
 },
 "nbformat": 4,
 "nbformat_minor": 2
}
